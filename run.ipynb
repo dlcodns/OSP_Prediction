{
 "cells": [
  {
   "cell_type": "code",
   "execution_count": 1,
   "metadata": {},
   "outputs": [
    {
     "name": "stdout",
     "output_type": "stream",
     "text": [
      "?\n"
     ]
    }
   ],
   "source": [
    "import time\n",
    "from collections import OrderedDict\n",
    "from options.test_options import TestOptions\n",
    "from data.data_loader import CreateDataLoader\n",
    "from models.models import create_model\n",
    "import util.util as util\n",
    "import os\n",
    "import numpy as np\n",
    "import torch\n",
    "from torch.autograd import Variable\n",
    "\n",
    "#from tensorboardX import SummaryWriter\n",
    "import cv2\n",
    "#writer = SummaryWriter('runs/G1G2')\n",
    "\n",
    "from PIL import Image\n",
    "import IPython\n",
    "import sys\n"
   ]
  },
  {
   "cell_type": "code",
   "execution_count": 2,
   "metadata": {},
   "outputs": [
    {
     "name": "stdout",
     "output_type": "stream",
     "text": [
      "d:\\acgpn-colab-original\n"
     ]
    }
   ],
   "source": [
    "print(os.getcwd())\n"
   ]
  },
  {
   "cell_type": "code",
   "execution_count": 3,
   "metadata": {},
   "outputs": [
    {
     "name": "stdout",
     "output_type": "stream",
     "text": [
      "predict_pose 왔다감\n"
     ]
    }
   ],
   "source": [
    "from predict_pose import generate_pose_keypoints\n"
   ]
  },
  {
   "cell_type": "code",
   "execution_count": 4,
   "metadata": {},
   "outputs": [
    {
     "name": "stdout",
     "output_type": "stream",
     "text": [
      "d:\\acgpn-colab-original\\U-2-Net\n"
     ]
    }
   ],
   "source": [
    "print(os.getcwd() +'\\\\U-2-Net')\n",
    "sys.path.append(os.getcwd() +'\\\\U-2-Net')\n",
    "\n",
    "import u2net_load\n",
    "import u2net_run"
   ]
  },
  {
   "cell_type": "code",
   "execution_count": 5,
   "metadata": {},
   "outputs": [
    {
     "name": "stdout",
     "output_type": "stream",
     "text": [
      "...load U2NEP---4.7 MB\n"
     ]
    }
   ],
   "source": [
    "def change_dir(path):\n",
    "    os.chdir(path)\n",
    "\n",
    "change_dir('D:/acgpn-colab-original/U-2-Net')\n",
    "\n",
    "u2net = u2net_load.model(model_name = 'u2netp')\n",
    "\n",
    "SIZE = 320\n",
    "NC = 14\n"
   ]
  },
  {
   "cell_type": "code",
   "execution_count": 6,
   "metadata": {},
   "outputs": [],
   "source": [
    "\n",
    "def generate_label_plain(inputs):\n",
    "    size = inputs.size()\n",
    "    pred_batch = []\n",
    "    for input in inputs:\n",
    "        input = input.view(1, NC, 256, 192)\n",
    "        pred = np.squeeze(input.data.max(1)[1].cpu().numpy(), axis=0)\n",
    "        pred_batch.append(pred)\n",
    "\n",
    "    pred_batch = np.array(pred_batch)\n",
    "    pred_batch = torch.from_numpy(pred_batch)\n",
    "    label_batch = pred_batch.view(size[0], 1, 256, 192)\n",
    "\n",
    "    return label_batch\n",
    "\n",
    "\n",
    "def generate_label_color(inputs):\n",
    "    label_batch = []\n",
    "    for i in range(len(inputs)):\n",
    "        label_batch.append(util.tensor2label(inputs[i], NC))\n",
    "    label_batch = np.array(label_batch)\n",
    "    label_batch = label_batch * 2 - 1\n",
    "    input_label = torch.from_numpy(label_batch)\n",
    "\n",
    "    return input_label\n",
    "\n",
    "\n",
    "def complete_compose(img, mask, label):\n",
    "    label = label.cpu().numpy()\n",
    "    M_f = label > 0\n",
    "    M_f = M_f.astype(np.int)\n",
    "    M_f = torch.FloatTensor(M_f).cuda()\n",
    "    masked_img = img*(1-mask)\n",
    "    M_c = (1-mask.cuda())*M_f\n",
    "    M_c = M_c+torch.zeros(img.shape).cuda()  # broadcasting\n",
    "    return masked_img, M_c, M_f\n",
    "\n",
    "\n",
    "def compose(label, mask, color_mask, edge, color, noise):\n",
    "    masked_label = label*(1-mask)\n",
    "    masked_edge = mask*edge\n",
    "    masked_color_strokes = mask*(1-color_mask)*color\n",
    "    masked_noise = mask*noise\n",
    "    return masked_label, masked_edge, masked_color_strokes, masked_noise\n",
    "\n",
    "\n",
    "def changearm(old_label):\n",
    "    label = old_label\n",
    "    arm1 = torch.FloatTensor((old_label.cpu().numpy() == 11).astype(np.int))\n",
    "    arm2 = torch.FloatTensor((old_label.cpu().numpy() == 13).astype(np.int))\n",
    "    noise = torch.FloatTensor((old_label.cpu().numpy() == 7).astype(np.int))\n",
    "    label = label*(1-arm1)+arm1*4\n",
    "    label = label*(1-arm2)+arm2*4\n",
    "    label = label*(1-noise)+noise*4\n",
    "    return label\n"
   ]
  },
  {
   "cell_type": "code",
   "execution_count": 7,
   "metadata": {},
   "outputs": [
    {
     "data": {
      "text/plain": [
       "['000048_1.jpg']"
      ]
     },
     "execution_count": 7,
     "metadata": {},
     "output_type": "execute_result"
    }
   ],
   "source": [
    "sorted(os.listdir('D:/acgpn-colab-original/inputs/cloth'))\n"
   ]
  },
  {
   "cell_type": "code",
   "execution_count": 8,
   "metadata": {},
   "outputs": [],
   "source": [
    "\n",
    "cloth_name = f'img_{int(time.time())}.png'\n",
    "    \n",
    "cloth_path = os.path.join('D:/acgpn-colab-original/inputs/cloth', sorted(os.listdir('D:/acgpn-colab-original/inputs/cloth'))[0])\n",
    "cloth = Image.open(cloth_path)\n",
    "cloth = cloth.resize((192,256), Image.BICUBIC).convert('RGB')\n",
    "cloth.save(os.path.join('D:/acgpn-colab-original/Data_preprocessing/test_color', cloth_name))"
   ]
  },
  {
   "cell_type": "code",
   "execution_count": 9,
   "metadata": {},
   "outputs": [
    {
     "name": "stdout",
     "output_type": "stream",
     "text": [
      "Generating mask for: img_1680840388.png\n",
      "Saving output at D:/acgpn-colab-original/Data_preprocessing/test_edge\\img_1680840388.png\n"
     ]
    }
   ],
   "source": [
    "u2net_run.infer(u2net, 'D:/acgpn-colab-original/Data_preprocessing/test_color', 'D:/acgpn-colab-original/Data_preprocessing/test_edge')\n"
   ]
  },
  {
   "cell_type": "code",
   "execution_count": 10,
   "metadata": {},
   "outputs": [
    {
     "name": "stdout",
     "output_type": "stream",
     "text": [
      "옷 마스크 추출\n",
      "img_1680840388.png\n",
      "D:/acgpn-colab-original/inputs/cloth\\000048_1.jpg\n"
     ]
    }
   ],
   "source": [
    "print('옷 마스크 추출')\n",
    "print(cloth_name)\n",
    "print(cloth_path)"
   ]
  },
  {
   "cell_type": "code",
   "execution_count": 11,
   "metadata": {},
   "outputs": [
    {
     "data": {
      "text/plain": [
       "['000001_0.jpg']"
      ]
     },
     "execution_count": 11,
     "metadata": {},
     "output_type": "execute_result"
    }
   ],
   "source": [
    "sorted(os.listdir('D:/gdrive-acgpn/ACGPN/inputs/img'))\n"
   ]
  },
  {
   "cell_type": "code",
   "execution_count": 12,
   "metadata": {},
   "outputs": [],
   "source": [
    "img_name = f'img_{int(time.time())}.png'\n",
    "\n",
    "img_path = os.path.join('D:/acgpn-colab-original/inputs/img', sorted(os.listdir('D:/acgpn-colab-original/inputs/img'))[0])\n",
    "img = Image.open(img_path)\n",
    "img = img.resize((192,256), Image.BICUBIC)\n",
    "img_path = os.path.join('D:/acgpn-colab-original/Data_preprocessing/test_img', img_name)\n",
    "img.save(img_path)"
   ]
  },
  {
   "cell_type": "code",
   "execution_count": 13,
   "metadata": {},
   "outputs": [
    {
     "name": "stdout",
     "output_type": "stream",
     "text": [
      "모델 마스크 추출\n",
      "img_1680840418.png\n",
      "D:/acgpn-colab-original/Data_preprocessing/test_img\\img_1680840418.png\n"
     ]
    }
   ],
   "source": [
    "print('모델 마스크 추출')\n",
    "print(img_name)\n",
    "print(img_path)"
   ]
  },
  {
   "cell_type": "code",
   "execution_count": 14,
   "metadata": {},
   "outputs": [
    {
     "name": "stdout",
     "output_type": "stream",
     "text": [
      "여기임\n",
      "D:\\acgpn-colab-original\\U-2-Net\n",
      "여기임\n",
      "바꾼 디렉\n",
      "D:\\acgpn-colab-original\\Self-Correction-Human-Parsing-for-ACGPN\n",
      "바꾼 디렉\n"
     ]
    }
   ],
   "source": [
    "print('여기임')\n",
    "print(os.getcwd())\n",
    "print('여기임')\n",
    "    \n",
    "change_dir('D:/acgpn-colab-original/Self-Correction-Human-Parsing-for-ACGPN')\n",
    "print('바꾼 디렉')\n",
    "print(os.getcwd())\n",
    "print('바꾼 디렉')"
   ]
  },
  {
   "cell_type": "code",
   "execution_count": 41,
   "metadata": {},
   "outputs": [
    {
     "name": "stdout",
     "output_type": "stream",
     "text": [
      "응 지나감\n"
     ]
    }
   ],
   "source": [
    "!python importtest.py"
   ]
  },
  {
   "cell_type": "code",
   "execution_count": 43,
   "metadata": {},
   "outputs": [
    {
     "name": "stdout",
     "output_type": "stream",
     "text": [
      "^C\n"
     ]
    }
   ],
   "source": [
    "!python simple_extractor.py"
   ]
  },
  {
   "cell_type": "code",
   "execution_count": 15,
   "metadata": {},
   "outputs": [
    {
     "name": "stdout",
     "output_type": "stream",
     "text": [
      "simpleextracter.py 왔다감\n"
     ]
    },
    {
     "name": "stderr",
     "output_type": "stream",
     "text": [
      "Traceback (most recent call last):\n",
      "  File \"c:\\Users\\mingk\\AppData\\Local\\Programs\\Python\\Python311\\Lib\\site-packages\\torch\\utils\\cpp_extension.py\", line 1893, in _run_ninja_build\n",
      "    subprocess.run(\n",
      "  File \"c:\\Users\\mingk\\AppData\\Local\\Programs\\Python\\Python311\\Lib\\subprocess.py\", line 571, in run\n",
      "    raise CalledProcessError(retcode, process.args,\n",
      "subprocess.CalledProcessError: Command '['ninja', '-v']' returned non-zero exit status 1.\n",
      "\n",
      "During handling of the above exception, another exception occurred:\n",
      "\n",
      "Traceback (most recent call last):\n",
      "  File \"D:\\acgpn-colab-original\\Self-Correction-Human-Parsing-for-ACGPN\\simple_extractor.py\", line 26, in <module>\n",
      "    import networks\n",
      "  File \"D:\\acgpn-colab-original\\Self-Correction-Human-Parsing-for-ACGPN\\networks\\__init__.py\", line 3, in <module>\n",
      "    from networks.AugmentCE2P import resnet101\n",
      "  File \"D:\\acgpn-colab-original\\Self-Correction-Human-Parsing-for-ACGPN\\networks\\AugmentCE2P.py\", line 21, in <module>\n",
      "    from modules import InPlaceABNSync\n",
      "  File \"D:\\acgpn-colab-original\\Self-Correction-Human-Parsing-for-ACGPN\\modules\\__init__.py\", line 1, in <module>\n",
      "    from .bn import ABN, InPlaceABN, InPlaceABNSync\n",
      "  File \"D:\\acgpn-colab-original\\Self-Correction-Human-Parsing-for-ACGPN\\modules\\bn.py\", line 10, in <module>\n",
      "    from .functions import *\n",
      "  File \"D:\\acgpn-colab-original\\Self-Correction-Human-Parsing-for-ACGPN\\modules\\functions.py\", line 10, in <module>\n",
      "    _backend = load(name=\"inplace_abn\",\n",
      "               ^^^^^^^^^^^^^^^^^^^^^^^^\n",
      "  File \"c:\\Users\\mingk\\AppData\\Local\\Programs\\Python\\Python311\\Lib\\site-packages\\torch\\utils\\cpp_extension.py\", line 1284, in load\n",
      "    return _jit_compile(\n",
      "           ^^^^^^^^^^^^^\n",
      "  File \"c:\\Users\\mingk\\AppData\\Local\\Programs\\Python\\Python311\\Lib\\site-packages\\torch\\utils\\cpp_extension.py\", line 1509, in _jit_compile\n",
      "    _write_ninja_file_and_build_library(\n",
      "  File \"c:\\Users\\mingk\\AppData\\Local\\Programs\\Python\\Python311\\Lib\\site-packages\\torch\\utils\\cpp_extension.py\", line 1624, in _write_ninja_file_and_build_library\n",
      "    _run_ninja_build(\n",
      "  File \"c:\\Users\\mingk\\AppData\\Local\\Programs\\Python\\Python311\\Lib\\site-packages\\torch\\utils\\cpp_extension.py\", line 1908, in _run_ninja_build\n",
      "    message += f\": {error.output.decode(*SUBPROCESS_DECODE_ARGS)}\"  # type: ignore[union-attr]\n",
      "                    ^^^^^^^^^^^^^^^^^^^^^^^^^^^^^^^^^^^^^^^^^^^^\n",
      "  File \"c:\\Users\\mingk\\AppData\\Local\\Programs\\Python\\Python311\\Lib\\encodings\\oem.py\", line 15, in decode\n",
      "    return oem_decode(input, errors, True)\n",
      "           ^^^^^^^^^^^^^^^^^^^^^^^^^^^^^^^\n",
      "UnicodeDecodeError: 'cp1' codec can't decode bytes in position 0--1: No mapping for the Unicode character exists in the target code page.\n"
     ]
    }
   ],
   "source": [
    "## 이거 맞는 코드인데 아마도 inplace-abn이 안깔려서 안돌아가는 듯\n",
    "!python simple_extractor.py --dataset 'lip' --model-restore 'D:/acgpn-colab-original/lip_final.pth' --input-dir 'D:/acgpn-colab-original/Data_preprocessing/test_img' --output-dir 'D:/acgpn-colab-original/Data_preprocessing/test_label'\n"
   ]
  },
  {
   "cell_type": "code",
   "execution_count": 53,
   "metadata": {},
   "outputs": [
    {
     "data": {
      "text/plain": [
       "1"
      ]
     },
     "execution_count": 53,
     "metadata": {},
     "output_type": "execute_result"
    }
   ],
   "source": [
    "#os.system(\"python ./Self-Correction-Human-Parsing-for-ACGPN/simple_extractor.py --dataset lip --model-restore D:/acgpn-colab-original/lip_final.pth --input-dir D:/acgpn-colab-original/Data_preprocessing/test_img --output-dir D:/acgpn-colab-original/Data_preprocessing/test_label\")\n"
   ]
  },
  {
   "cell_type": "code",
   "execution_count": 16,
   "metadata": {},
   "outputs": [
    {
     "name": "stdout",
     "output_type": "stream",
     "text": [
      "D:\\acgpn-colab-original\\Self-Correction-Human-Parsing-for-ACGPN\n"
     ]
    }
   ],
   "source": [
    "print(os.getcwd())\n"
   ]
  },
  {
   "cell_type": "code",
   "execution_count": 17,
   "metadata": {},
   "outputs": [
    {
     "name": "stdout",
     "output_type": "stream",
     "text": [
      "File saved at D:/acgpn-colab-original/Data_preprocessing/test_pose\\img_1680840418_keypoints.json\n"
     ]
    }
   ],
   "source": [
    "change_dir('D:/acgpn-colab-original')\n",
    "\n",
    "pose_path = os.path.join('D:/acgpn-colab-original/Data_preprocessing/test_pose', img_name.replace('.png', '_keypoints.json'))\n",
    "generate_pose_keypoints(img_path, pose_path)"
   ]
  },
  {
   "cell_type": "code",
   "execution_count": 18,
   "metadata": {},
   "outputs": [
    {
     "name": "stdout",
     "output_type": "stream",
     "text": [
      "D:\\acgpn-colab-original\n"
     ]
    }
   ],
   "source": [
    "print(os.getcwd())\n"
   ]
  },
  {
   "cell_type": "code",
   "execution_count": 19,
   "metadata": {},
   "outputs": [],
   "source": [
    "os.remove('D:/acgpn-colab-original/Data_preprocessing/test_pairs.txt')\n"
   ]
  },
  {
   "cell_type": "code",
   "execution_count": 20,
   "metadata": {},
   "outputs": [],
   "source": [
    "\n",
    "with open('D:/acgpn-colab-original/Data_preprocessing/test_pairs.txt', 'w') as f:\n",
    "    f.write(f'{img_name} {cloth_name}')"
   ]
  },
  {
   "cell_type": "code",
   "execution_count": 22,
   "metadata": {},
   "outputs": [
    {
     "name": "stderr",
     "output_type": "stream",
     "text": [
      "usage: ipykernel_launcher.py [-h] [--name NAME] [--gpu_ids GPU_IDS]\n",
      "                             [--checkpoints_dir CHECKPOINTS_DIR]\n",
      "                             [--model MODEL] [--norm NORM] [--use_dropout]\n",
      "                             [--data_type {8,16,32}] [--verbose]\n",
      "                             [--batchSize BATCHSIZE] [--loadSize LOADSIZE]\n",
      "                             [--fineSize FINESIZE] [--label_nc LABEL_NC]\n",
      "                             [--input_nc INPUT_NC] [--output_nc OUTPUT_NC]\n",
      "                             [--dataroot DATAROOT] [--datapairs DATAPAIRS]\n",
      "                             [--resize_or_crop RESIZE_OR_CROP] [--no_flip]\n",
      "                             [--nThreads NTHREADS]\n",
      "                             [--max_dataset_size MAX_DATASET_SIZE]\n",
      "                             [--display_winsize DISPLAY_WINSIZE] [--tf_log]\n",
      "                             [--netG NETG] [--ngf NGF]\n",
      "                             [--n_downsample_global N_DOWNSAMPLE_GLOBAL]\n",
      "                             [--n_blocks_global N_BLOCKS_GLOBAL]\n",
      "                             [--n_blocks_local N_BLOCKS_LOCAL]\n",
      "                             [--n_local_enhancers N_LOCAL_ENHANCERS]\n",
      "                             [--niter_fix_global NITER_FIX_GLOBAL]\n",
      "                             [--continue_train] [--ntest NTEST]\n",
      "                             [--results_dir RESULTS_DIR]\n",
      "                             [--aspect_ratio ASPECT_RATIO] [--phase PHASE]\n",
      "                             [--which_epoch WHICH_EPOCH] [--how_many HOW_MANY]\n",
      "                             [--serial_batches] [--cluster_path CLUSTER_PATH]\n",
      "                             [--use_encoded_image] [--export_onnx EXPORT_ONNX]\n",
      "                             [--engine ENGINE] [--onnx ONNX]\n",
      "ipykernel_launcher.py: error: argument --fineSize: invalid int value: 'c:\\\\Users\\\\mingk\\\\AppData\\\\Roaming\\\\jupyter\\\\runtime\\\\kernel-v2-17920k6irpjr41vRt.json'\n"
     ]
    },
    {
     "ename": "AttributeError",
     "evalue": "'tuple' object has no attribute 'tb_frame'",
     "output_type": "error",
     "traceback": [
      "\u001b[1;31m---------------------------------------------------------------------------\u001b[0m",
      "\u001b[1;31mValueError\u001b[0m                                Traceback (most recent call last)",
      "File \u001b[1;32mc:\\Users\\mingk\\AppData\\Local\\Programs\\Python\\Python311\\Lib\\argparse.py:2529\u001b[0m, in \u001b[0;36mArgumentParser._get_value\u001b[1;34m(self, action, arg_string)\u001b[0m\n\u001b[0;32m   2528\u001b[0m \u001b[39mtry\u001b[39;00m:\n\u001b[1;32m-> 2529\u001b[0m     result \u001b[39m=\u001b[39m type_func(arg_string)\n\u001b[0;32m   2531\u001b[0m \u001b[39m# ArgumentTypeErrors indicate errors\u001b[39;00m\n",
      "\u001b[1;31mValueError\u001b[0m: invalid literal for int() with base 10: 'c:\\\\Users\\\\mingk\\\\AppData\\\\Roaming\\\\jupyter\\\\runtime\\\\kernel-v2-17920k6irpjr41vRt.json'",
      "\nDuring handling of the above exception, another exception occurred:\n",
      "\u001b[1;31mArgumentError\u001b[0m                             Traceback (most recent call last)",
      "File \u001b[1;32mc:\\Users\\mingk\\AppData\\Local\\Programs\\Python\\Python311\\Lib\\argparse.py:1902\u001b[0m, in \u001b[0;36mArgumentParser.parse_known_args\u001b[1;34m(self, args, namespace)\u001b[0m\n\u001b[0;32m   1901\u001b[0m \u001b[39mtry\u001b[39;00m:\n\u001b[1;32m-> 1902\u001b[0m     namespace, args \u001b[39m=\u001b[39m \u001b[39mself\u001b[39;49m\u001b[39m.\u001b[39;49m_parse_known_args(args, namespace)\n\u001b[0;32m   1903\u001b[0m \u001b[39mexcept\u001b[39;00m ArgumentError \u001b[39mas\u001b[39;00m err:\n",
      "File \u001b[1;32mc:\\Users\\mingk\\AppData\\Local\\Programs\\Python\\Python311\\Lib\\argparse.py:2114\u001b[0m, in \u001b[0;36mArgumentParser._parse_known_args\u001b[1;34m(self, arg_strings, namespace)\u001b[0m\n\u001b[0;32m   2113\u001b[0m     \u001b[39m# consume the next optional and any arguments for it\u001b[39;00m\n\u001b[1;32m-> 2114\u001b[0m     start_index \u001b[39m=\u001b[39m consume_optional(start_index)\n\u001b[0;32m   2116\u001b[0m \u001b[39m# consume any positionals following the last Optional\u001b[39;00m\n",
      "File \u001b[1;32mc:\\Users\\mingk\\AppData\\Local\\Programs\\Python\\Python311\\Lib\\argparse.py:2054\u001b[0m, in \u001b[0;36mArgumentParser._parse_known_args.<locals>.consume_optional\u001b[1;34m(start_index)\u001b[0m\n\u001b[0;32m   2053\u001b[0m \u001b[39mfor\u001b[39;00m action, args, option_string \u001b[39min\u001b[39;00m action_tuples:\n\u001b[1;32m-> 2054\u001b[0m     take_action(action, args, option_string)\n\u001b[0;32m   2055\u001b[0m \u001b[39mreturn\u001b[39;00m stop\n",
      "File \u001b[1;32mc:\\Users\\mingk\\AppData\\Local\\Programs\\Python\\Python311\\Lib\\argparse.py:1962\u001b[0m, in \u001b[0;36mArgumentParser._parse_known_args.<locals>.take_action\u001b[1;34m(action, argument_strings, option_string)\u001b[0m\n\u001b[0;32m   1961\u001b[0m seen_actions\u001b[39m.\u001b[39madd(action)\n\u001b[1;32m-> 1962\u001b[0m argument_values \u001b[39m=\u001b[39m \u001b[39mself\u001b[39;49m\u001b[39m.\u001b[39;49m_get_values(action, argument_strings)\n\u001b[0;32m   1964\u001b[0m \u001b[39m# error if this argument is not allowed with other previously\u001b[39;00m\n\u001b[0;32m   1965\u001b[0m \u001b[39m# seen arguments, assuming that actions that use the default\u001b[39;00m\n\u001b[0;32m   1966\u001b[0m \u001b[39m# value don't really count as \"present\"\u001b[39;00m\n",
      "File \u001b[1;32mc:\\Users\\mingk\\AppData\\Local\\Programs\\Python\\Python311\\Lib\\argparse.py:2496\u001b[0m, in \u001b[0;36mArgumentParser._get_values\u001b[1;34m(self, action, arg_strings)\u001b[0m\n\u001b[0;32m   2495\u001b[0m arg_string, \u001b[39m=\u001b[39m arg_strings\n\u001b[1;32m-> 2496\u001b[0m value \u001b[39m=\u001b[39m \u001b[39mself\u001b[39;49m\u001b[39m.\u001b[39;49m_get_value(action, arg_string)\n\u001b[0;32m   2497\u001b[0m \u001b[39mself\u001b[39m\u001b[39m.\u001b[39m_check_value(action, value)\n",
      "File \u001b[1;32mc:\\Users\\mingk\\AppData\\Local\\Programs\\Python\\Python311\\Lib\\argparse.py:2542\u001b[0m, in \u001b[0;36mArgumentParser._get_value\u001b[1;34m(self, action, arg_string)\u001b[0m\n\u001b[0;32m   2541\u001b[0m     msg \u001b[39m=\u001b[39m _(\u001b[39m'\u001b[39m\u001b[39minvalid \u001b[39m\u001b[39m%(type)s\u001b[39;00m\u001b[39m value: \u001b[39m\u001b[39m%(value)r\u001b[39;00m\u001b[39m'\u001b[39m)\n\u001b[1;32m-> 2542\u001b[0m     \u001b[39mraise\u001b[39;00m ArgumentError(action, msg \u001b[39m%\u001b[39m args)\n\u001b[0;32m   2544\u001b[0m \u001b[39m# return the converted value\u001b[39;00m\n",
      "\u001b[1;31mArgumentError\u001b[0m: argument --fineSize: invalid int value: 'c:\\\\Users\\\\mingk\\\\AppData\\\\Roaming\\\\jupyter\\\\runtime\\\\kernel-v2-17920k6irpjr41vRt.json'",
      "\nDuring handling of the above exception, another exception occurred:\n",
      "\u001b[1;31mSystemExit\u001b[0m                                Traceback (most recent call last)",
      "    \u001b[1;31m[... skipping hidden 1 frame]\u001b[0m\n",
      "Cell \u001b[1;32mIn[22], line 2\u001b[0m\n\u001b[0;32m      1\u001b[0m os\u001b[39m.\u001b[39mmakedirs(\u001b[39m'\u001b[39m\u001b[39msample\u001b[39m\u001b[39m'\u001b[39m, exist_ok\u001b[39m=\u001b[39m\u001b[39mTrue\u001b[39;00m)\n\u001b[1;32m----> 2\u001b[0m opt \u001b[39m=\u001b[39m TestOptions()\u001b[39m.\u001b[39;49mparse()\n\u001b[0;32m      3\u001b[0m \u001b[39mprint\u001b[39m(\u001b[39m'\u001b[39m\u001b[39mopt = \u001b[39m\u001b[39m'\u001b[39m, opt)\n",
      "File \u001b[1;32md:\\acgpn-colab-original\\options\\base_options.py:94\u001b[0m, in \u001b[0;36mBaseOptions.parse\u001b[1;34m(self, save)\u001b[0m\n\u001b[0;32m     93\u001b[0m     \u001b[39mself\u001b[39m\u001b[39m.\u001b[39minitialize()\n\u001b[1;32m---> 94\u001b[0m \u001b[39mself\u001b[39m\u001b[39m.\u001b[39mopt \u001b[39m=\u001b[39m \u001b[39mself\u001b[39;49m\u001b[39m.\u001b[39;49mparser\u001b[39m.\u001b[39;49mparse_args()\n\u001b[0;32m     95\u001b[0m \u001b[39mself\u001b[39m\u001b[39m.\u001b[39mopt\u001b[39m.\u001b[39misTrain \u001b[39m=\u001b[39m \u001b[39mself\u001b[39m\u001b[39m.\u001b[39misTrain   \u001b[39m# train or test\u001b[39;00m\n",
      "File \u001b[1;32mc:\\Users\\mingk\\AppData\\Local\\Programs\\Python\\Python311\\Lib\\argparse.py:1869\u001b[0m, in \u001b[0;36mArgumentParser.parse_args\u001b[1;34m(self, args, namespace)\u001b[0m\n\u001b[0;32m   1868\u001b[0m \u001b[39mdef\u001b[39;00m \u001b[39mparse_args\u001b[39m(\u001b[39mself\u001b[39m, args\u001b[39m=\u001b[39m\u001b[39mNone\u001b[39;00m, namespace\u001b[39m=\u001b[39m\u001b[39mNone\u001b[39;00m):\n\u001b[1;32m-> 1869\u001b[0m     args, argv \u001b[39m=\u001b[39m \u001b[39mself\u001b[39;49m\u001b[39m.\u001b[39;49mparse_known_args(args, namespace)\n\u001b[0;32m   1870\u001b[0m     \u001b[39mif\u001b[39;00m argv:\n",
      "File \u001b[1;32mc:\\Users\\mingk\\AppData\\Local\\Programs\\Python\\Python311\\Lib\\argparse.py:1904\u001b[0m, in \u001b[0;36mArgumentParser.parse_known_args\u001b[1;34m(self, args, namespace)\u001b[0m\n\u001b[0;32m   1903\u001b[0m     \u001b[39mexcept\u001b[39;00m ArgumentError \u001b[39mas\u001b[39;00m err:\n\u001b[1;32m-> 1904\u001b[0m         \u001b[39mself\u001b[39;49m\u001b[39m.\u001b[39;49merror(\u001b[39mstr\u001b[39;49m(err))\n\u001b[0;32m   1905\u001b[0m \u001b[39melse\u001b[39;00m:\n",
      "File \u001b[1;32mc:\\Users\\mingk\\AppData\\Local\\Programs\\Python\\Python311\\Lib\\argparse.py:2628\u001b[0m, in \u001b[0;36mArgumentParser.error\u001b[1;34m(self, message)\u001b[0m\n\u001b[0;32m   2627\u001b[0m args \u001b[39m=\u001b[39m {\u001b[39m'\u001b[39m\u001b[39mprog\u001b[39m\u001b[39m'\u001b[39m: \u001b[39mself\u001b[39m\u001b[39m.\u001b[39mprog, \u001b[39m'\u001b[39m\u001b[39mmessage\u001b[39m\u001b[39m'\u001b[39m: message}\n\u001b[1;32m-> 2628\u001b[0m \u001b[39mself\u001b[39;49m\u001b[39m.\u001b[39;49mexit(\u001b[39m2\u001b[39;49m, _(\u001b[39m'\u001b[39;49m\u001b[39m%(prog)s\u001b[39;49;00m\u001b[39m: error: \u001b[39;49m\u001b[39m%(message)s\u001b[39;49;00m\u001b[39m\\n\u001b[39;49;00m\u001b[39m'\u001b[39;49m) \u001b[39m%\u001b[39;49m args)\n",
      "File \u001b[1;32mc:\\Users\\mingk\\AppData\\Local\\Programs\\Python\\Python311\\Lib\\argparse.py:2615\u001b[0m, in \u001b[0;36mArgumentParser.exit\u001b[1;34m(self, status, message)\u001b[0m\n\u001b[0;32m   2614\u001b[0m     \u001b[39mself\u001b[39m\u001b[39m.\u001b[39m_print_message(message, _sys\u001b[39m.\u001b[39mstderr)\n\u001b[1;32m-> 2615\u001b[0m _sys\u001b[39m.\u001b[39;49mexit(status)\n",
      "\u001b[1;31mSystemExit\u001b[0m: 2",
      "\nDuring handling of the above exception, another exception occurred:\n",
      "\u001b[1;31mAttributeError\u001b[0m                            Traceback (most recent call last)",
      "    \u001b[1;31m[... skipping hidden 1 frame]\u001b[0m\n",
      "File \u001b[1;32mc:\\Users\\mingk\\AppData\\Local\\Programs\\Python\\Python311\\Lib\\site-packages\\IPython\\core\\interactiveshell.py:2092\u001b[0m, in \u001b[0;36mInteractiveShell.showtraceback\u001b[1;34m(self, exc_tuple, filename, tb_offset, exception_only, running_compiled_code)\u001b[0m\n\u001b[0;32m   2089\u001b[0m \u001b[39mif\u001b[39;00m exception_only:\n\u001b[0;32m   2090\u001b[0m     stb \u001b[39m=\u001b[39m [\u001b[39m'\u001b[39m\u001b[39mAn exception has occurred, use \u001b[39m\u001b[39m%\u001b[39m\u001b[39mtb to see \u001b[39m\u001b[39m'\u001b[39m\n\u001b[0;32m   2091\u001b[0m            \u001b[39m'\u001b[39m\u001b[39mthe full traceback.\u001b[39m\u001b[39m\\n\u001b[39;00m\u001b[39m'\u001b[39m]\n\u001b[1;32m-> 2092\u001b[0m     stb\u001b[39m.\u001b[39mextend(\u001b[39mself\u001b[39;49m\u001b[39m.\u001b[39;49mInteractiveTB\u001b[39m.\u001b[39;49mget_exception_only(etype,\n\u001b[0;32m   2093\u001b[0m                                                      value))\n\u001b[0;32m   2094\u001b[0m \u001b[39melse\u001b[39;00m:\n\u001b[0;32m   2095\u001b[0m     \u001b[39mtry\u001b[39;00m:\n\u001b[0;32m   2096\u001b[0m         \u001b[39m# Exception classes can customise their traceback - we\u001b[39;00m\n\u001b[0;32m   2097\u001b[0m         \u001b[39m# use this in IPython.parallel for exceptions occurring\u001b[39;00m\n\u001b[0;32m   2098\u001b[0m         \u001b[39m# in the engines. This should return a list of strings.\u001b[39;00m\n",
      "File \u001b[1;32mc:\\Users\\mingk\\AppData\\Local\\Programs\\Python\\Python311\\Lib\\site-packages\\IPython\\core\\ultratb.py:644\u001b[0m, in \u001b[0;36mListTB.get_exception_only\u001b[1;34m(self, etype, value)\u001b[0m\n\u001b[0;32m    636\u001b[0m \u001b[39mdef\u001b[39;00m \u001b[39mget_exception_only\u001b[39m(\u001b[39mself\u001b[39m, etype, value):\n\u001b[0;32m    637\u001b[0m \u001b[39m    \u001b[39m\u001b[39m\"\"\"Only print the exception type and message, without a traceback.\u001b[39;00m\n\u001b[0;32m    638\u001b[0m \n\u001b[0;32m    639\u001b[0m \u001b[39m    Parameters\u001b[39;00m\n\u001b[1;32m   (...)\u001b[0m\n\u001b[0;32m    642\u001b[0m \u001b[39m    value : exception value\u001b[39;00m\n\u001b[0;32m    643\u001b[0m \u001b[39m    \"\"\"\u001b[39;00m\n\u001b[1;32m--> 644\u001b[0m     \u001b[39mreturn\u001b[39;00m ListTB\u001b[39m.\u001b[39;49mstructured_traceback(\u001b[39mself\u001b[39;49m, etype, value)\n",
      "File \u001b[1;32mc:\\Users\\mingk\\AppData\\Local\\Programs\\Python\\Python311\\Lib\\site-packages\\IPython\\core\\ultratb.py:511\u001b[0m, in \u001b[0;36mListTB.structured_traceback\u001b[1;34m(self, etype, evalue, etb, tb_offset, context)\u001b[0m\n\u001b[0;32m    508\u001b[0m     chained_exc_ids\u001b[39m.\u001b[39madd(\u001b[39mid\u001b[39m(exception[\u001b[39m1\u001b[39m]))\n\u001b[0;32m    509\u001b[0m     chained_exceptions_tb_offset \u001b[39m=\u001b[39m \u001b[39m0\u001b[39m\n\u001b[0;32m    510\u001b[0m     out_list \u001b[39m=\u001b[39m (\n\u001b[1;32m--> 511\u001b[0m         \u001b[39mself\u001b[39;49m\u001b[39m.\u001b[39;49mstructured_traceback(\n\u001b[0;32m    512\u001b[0m             etype, evalue, (etb, chained_exc_ids),\n\u001b[0;32m    513\u001b[0m             chained_exceptions_tb_offset, context)\n\u001b[0;32m    514\u001b[0m         \u001b[39m+\u001b[39m chained_exception_message\n\u001b[0;32m    515\u001b[0m         \u001b[39m+\u001b[39m out_list)\n\u001b[0;32m    517\u001b[0m \u001b[39mreturn\u001b[39;00m out_list\n",
      "File \u001b[1;32mc:\\Users\\mingk\\AppData\\Local\\Programs\\Python\\Python311\\Lib\\site-packages\\IPython\\core\\ultratb.py:1310\u001b[0m, in \u001b[0;36mAutoFormattedTB.structured_traceback\u001b[1;34m(self, etype, value, tb, tb_offset, number_of_lines_of_context)\u001b[0m\n\u001b[0;32m   1308\u001b[0m \u001b[39melse\u001b[39;00m:\n\u001b[0;32m   1309\u001b[0m     \u001b[39mself\u001b[39m\u001b[39m.\u001b[39mtb \u001b[39m=\u001b[39m tb\n\u001b[1;32m-> 1310\u001b[0m \u001b[39mreturn\u001b[39;00m FormattedTB\u001b[39m.\u001b[39;49mstructured_traceback(\n\u001b[0;32m   1311\u001b[0m     \u001b[39mself\u001b[39;49m, etype, value, tb, tb_offset, number_of_lines_of_context)\n",
      "File \u001b[1;32mc:\\Users\\mingk\\AppData\\Local\\Programs\\Python\\Python311\\Lib\\site-packages\\IPython\\core\\ultratb.py:1199\u001b[0m, in \u001b[0;36mFormattedTB.structured_traceback\u001b[1;34m(self, etype, value, tb, tb_offset, number_of_lines_of_context)\u001b[0m\n\u001b[0;32m   1196\u001b[0m mode \u001b[39m=\u001b[39m \u001b[39mself\u001b[39m\u001b[39m.\u001b[39mmode\n\u001b[0;32m   1197\u001b[0m \u001b[39mif\u001b[39;00m mode \u001b[39min\u001b[39;00m \u001b[39mself\u001b[39m\u001b[39m.\u001b[39mverbose_modes:\n\u001b[0;32m   1198\u001b[0m     \u001b[39m# Verbose modes need a full traceback\u001b[39;00m\n\u001b[1;32m-> 1199\u001b[0m     \u001b[39mreturn\u001b[39;00m VerboseTB\u001b[39m.\u001b[39;49mstructured_traceback(\n\u001b[0;32m   1200\u001b[0m         \u001b[39mself\u001b[39;49m, etype, value, tb, tb_offset, number_of_lines_of_context\n\u001b[0;32m   1201\u001b[0m     )\n\u001b[0;32m   1202\u001b[0m \u001b[39melif\u001b[39;00m mode \u001b[39m==\u001b[39m \u001b[39m'\u001b[39m\u001b[39mMinimal\u001b[39m\u001b[39m'\u001b[39m:\n\u001b[0;32m   1203\u001b[0m     \u001b[39mreturn\u001b[39;00m ListTB\u001b[39m.\u001b[39mget_exception_only(\u001b[39mself\u001b[39m, etype, value)\n",
      "File \u001b[1;32mc:\\Users\\mingk\\AppData\\Local\\Programs\\Python\\Python311\\Lib\\site-packages\\IPython\\core\\ultratb.py:1052\u001b[0m, in \u001b[0;36mVerboseTB.structured_traceback\u001b[1;34m(self, etype, evalue, etb, tb_offset, number_of_lines_of_context)\u001b[0m\n\u001b[0;32m   1043\u001b[0m \u001b[39mdef\u001b[39;00m \u001b[39mstructured_traceback\u001b[39m(\n\u001b[0;32m   1044\u001b[0m     \u001b[39mself\u001b[39m,\n\u001b[0;32m   1045\u001b[0m     etype: \u001b[39mtype\u001b[39m,\n\u001b[1;32m   (...)\u001b[0m\n\u001b[0;32m   1049\u001b[0m     number_of_lines_of_context: \u001b[39mint\u001b[39m \u001b[39m=\u001b[39m \u001b[39m5\u001b[39m,\n\u001b[0;32m   1050\u001b[0m ):\n\u001b[0;32m   1051\u001b[0m \u001b[39m    \u001b[39m\u001b[39m\"\"\"Return a nice text document describing the traceback.\"\"\"\u001b[39;00m\n\u001b[1;32m-> 1052\u001b[0m     formatted_exception \u001b[39m=\u001b[39m \u001b[39mself\u001b[39;49m\u001b[39m.\u001b[39;49mformat_exception_as_a_whole(etype, evalue, etb, number_of_lines_of_context,\n\u001b[0;32m   1053\u001b[0m                                                            tb_offset)\n\u001b[0;32m   1055\u001b[0m     colors \u001b[39m=\u001b[39m \u001b[39mself\u001b[39m\u001b[39m.\u001b[39mColors  \u001b[39m# just a shorthand + quicker name lookup\u001b[39;00m\n\u001b[0;32m   1056\u001b[0m     colorsnormal \u001b[39m=\u001b[39m colors\u001b[39m.\u001b[39mNormal  \u001b[39m# used a lot\u001b[39;00m\n",
      "File \u001b[1;32mc:\\Users\\mingk\\AppData\\Local\\Programs\\Python\\Python311\\Lib\\site-packages\\IPython\\core\\ultratb.py:953\u001b[0m, in \u001b[0;36mVerboseTB.format_exception_as_a_whole\u001b[1;34m(self, etype, evalue, etb, number_of_lines_of_context, tb_offset)\u001b[0m\n\u001b[0;32m    950\u001b[0m \u001b[39massert\u001b[39;00m \u001b[39misinstance\u001b[39m(tb_offset, \u001b[39mint\u001b[39m)\n\u001b[0;32m    951\u001b[0m head \u001b[39m=\u001b[39m \u001b[39mself\u001b[39m\u001b[39m.\u001b[39mprepare_header(etype, \u001b[39mself\u001b[39m\u001b[39m.\u001b[39mlong_header)\n\u001b[0;32m    952\u001b[0m records \u001b[39m=\u001b[39m (\n\u001b[1;32m--> 953\u001b[0m     \u001b[39mself\u001b[39;49m\u001b[39m.\u001b[39;49mget_records(etb, number_of_lines_of_context, tb_offset) \u001b[39mif\u001b[39;00m etb \u001b[39melse\u001b[39;00m []\n\u001b[0;32m    954\u001b[0m )\n\u001b[0;32m    956\u001b[0m frames \u001b[39m=\u001b[39m []\n\u001b[0;32m    957\u001b[0m skipped \u001b[39m=\u001b[39m \u001b[39m0\u001b[39m\n",
      "File \u001b[1;32mc:\\Users\\mingk\\AppData\\Local\\Programs\\Python\\Python311\\Lib\\site-packages\\IPython\\core\\ultratb.py:1021\u001b[0m, in \u001b[0;36mVerboseTB.get_records\u001b[1;34m(self, etb, number_of_lines_of_context, tb_offset)\u001b[0m\n\u001b[0;32m   1019\u001b[0m \u001b[39mwhile\u001b[39;00m cf \u001b[39mis\u001b[39;00m \u001b[39mnot\u001b[39;00m \u001b[39mNone\u001b[39;00m:\n\u001b[0;32m   1020\u001b[0m     \u001b[39mtry\u001b[39;00m:\n\u001b[1;32m-> 1021\u001b[0m         source_file \u001b[39m=\u001b[39m inspect\u001b[39m.\u001b[39mgetsourcefile(etb\u001b[39m.\u001b[39;49mtb_frame)\n\u001b[0;32m   1022\u001b[0m         lines, first \u001b[39m=\u001b[39m inspect\u001b[39m.\u001b[39mgetsourcelines(etb\u001b[39m.\u001b[39mtb_frame)\n\u001b[0;32m   1023\u001b[0m     \u001b[39mexcept\u001b[39;00m \u001b[39mOSError\u001b[39;00m:\n",
      "\u001b[1;31mAttributeError\u001b[0m: 'tuple' object has no attribute 'tb_frame'"
     ]
    }
   ],
   "source": [
    "os.makedirs('sample', exist_ok=True)\n",
    "opt = TestOptions().parse()\n",
    "print('opt = ', opt)\n",
    "print(type(opt))\n",
    "\n"
   ]
  },
  {
   "cell_type": "code",
   "execution_count": 67,
   "metadata": {},
   "outputs": [
    {
     "name": "stdout",
     "output_type": "stream",
     "text": [
      "여기는 dataloader\n"
     ]
    },
    {
     "ename": "NameError",
     "evalue": "name 'opt' is not defined",
     "output_type": "error",
     "traceback": [
      "\u001b[1;31m---------------------------------------------------------------------------\u001b[0m",
      "\u001b[1;31mNameError\u001b[0m                                 Traceback (most recent call last)",
      "\u001b[1;32md:\\acgpn-colab-original\\run.ipynb Cell 23\u001b[0m in \u001b[0;36m<cell line: 3>\u001b[1;34m()\u001b[0m\n\u001b[0;32m      <a href='vscode-notebook-cell:/d%3A/acgpn-colab-original/run.ipynb#X36sZmlsZQ%3D%3D?line=0'>1</a>\u001b[0m \u001b[39mprint\u001b[39m(\u001b[39m'\u001b[39m\u001b[39m여기는 dataloader\u001b[39m\u001b[39m'\u001b[39m)\n\u001b[1;32m----> <a href='vscode-notebook-cell:/d%3A/acgpn-colab-original/run.ipynb#X36sZmlsZQ%3D%3D?line=2'>3</a>\u001b[0m data_loader \u001b[39m=\u001b[39m CreateDataLoader(opt)\n\u001b[0;32m      <a href='vscode-notebook-cell:/d%3A/acgpn-colab-original/run.ipynb#X36sZmlsZQ%3D%3D?line=3'>4</a>\u001b[0m dataset \u001b[39m=\u001b[39m data_loader\u001b[39m.\u001b[39mload_data()\n\u001b[0;32m      <a href='vscode-notebook-cell:/d%3A/acgpn-colab-original/run.ipynb#X36sZmlsZQ%3D%3D?line=4'>5</a>\u001b[0m dataset_size \u001b[39m=\u001b[39m \u001b[39mlen\u001b[39m(data_loader)\n",
      "\u001b[1;31mNameError\u001b[0m: name 'opt' is not defined"
     ]
    }
   ],
   "source": [
    "\n",
    "print('여기는 dataloader')\n",
    "\n",
    "data_loader = CreateDataLoader(opt)\n",
    "dataset = data_loader.load_data()\n",
    "dataset_size = len(data_loader)\n",
    "print('# Inference images = %d' % dataset_size)\n",
    "\n",
    "print('모델 생성')\n"
   ]
  },
  {
   "cell_type": "code",
   "execution_count": null,
   "metadata": {},
   "outputs": [],
   "source": [
    "model = create_model(opt)\n",
    "    \n",
    "print('여기는 지나감')\n",
    "\n",
    "print('dataset = ',dataset)\n",
    "print(type(dataset))\n",
    "    \n",
    "print(len(dataset.dataset), dataset.batch_size)"
   ]
  },
  {
   "cell_type": "code",
   "execution_count": null,
   "metadata": {},
   "outputs": [],
   "source": [
    "for i, data in enumerate(dataset):\n",
    "        \n",
    "    print('반복문 시작')\n",
    "\n",
    "    # add gaussian noise channel\n",
    "    # wash the label\n",
    "    t_mask = torch.FloatTensor(\n",
    "        (data['label'].cpu().numpy() == 7).astype(np.float))\n",
    "    #\n",
    "    # data['label'] = data['label'] * (1 - t_mask) + t_mask * 4\n",
    "    mask_clothes = torch.FloatTensor(\n",
    "        (data['label'].cpu().numpy() == 4).astype(np.int))\n",
    "    mask_fore = torch.FloatTensor(\n",
    "        (data['label'].cpu().numpy() > 0).astype(np.int))\n",
    "    img_fore = data['image'] * mask_fore\n",
    "    img_fore_wc = img_fore * mask_fore\n",
    "    all_clothes_label = changearm(data['label'])\n",
    "\n",
    "    ############## Forward Pass ######################\n",
    "    fake_image, warped_cloth, refined_cloth = model(Variable(data['label'].cuda()), Variable(data['edge'].cuda()), Variable(img_fore.cuda()), Variable(\n",
    "        mask_clothes.cuda()), Variable(data['color'].cuda()), Variable(all_clothes_label.cuda()), Variable(data['image'].cuda()), Variable(data['pose'].cuda()), Variable(data['image'].cuda()), Variable(mask_fore.cuda()))\n",
    "\n",
    "    #### 만든 것 저장\n",
    "    print('만든거 저장중')\n",
    "\n",
    "    # make output folders\n",
    "        \n",
    "    print('경로 뽑아내기')\n",
    "    print (opt.results_dir)\n",
    "    print(opt.phase)\n",
    "    print(output_dir)\n",
    "        \n",
    "    output_dir = os.path.join(opt.results_dir, opt.phase)\n",
    "    fake_image_dir = os.path.join(output_dir, 'try-on')\n",
    "    os.makedirs(fake_image_dir, exist_ok=True)\n",
    "    warped_cloth_dir = os.path.join(output_dir, 'warped_cloth')\n",
    "    os.makedirs(warped_cloth_dir, exist_ok=True)\n",
    "    refined_cloth_dir = os.path.join(output_dir, 'refined_cloth')\n",
    "    os.makedirs(refined_cloth_dir, exist_ok=True)\n",
    "\n",
    "    # save output\n",
    "    for j in range(opt.batchSize):\n",
    "        print(\"Saving\", data['name'][j])\n",
    "        util.save_tensor_as_image(fake_image[j],\n",
    "                                  os.path.join(fake_image_dir, data['name'][j]))\n",
    "        util.save_tensor_as_image(warped_cloth[j],\n",
    "                                    os.path.join(warped_cloth_dir, data['name'][j]))\n",
    "        util.save_tensor_as_image(refined_cloth[j],\n",
    "                                      os.path.join(refined_cloth_dir, data['name'][j]))\n",
    "\n",
    "    ####\n",
    "    #### 완성한 이미지 보여주기\n",
    "    ####\n",
    "  #  output_grid = np.concatenate([\n",
    "  #  np.array(Image.open(f'D:/gdrive-acgpn/ACGPN/Data_preprocessing/test_img/{img_name}')),\n",
    "  #  np.array(Image.open(f'D:/gdrive-acgpn/ACGPN/Data_preprocessing/test_color/{cloth_name}')),\n",
    "  #  np.array(Image.open(f'results/test/try-on/{img_name}'))\n",
    "  #  ], axis=1)\n",
    "\n",
    "  #  image_grid = Image.fromarray(output_grid)\n",
    "\n",
    "  #  image_grid\n",
    "\n",
    "print('끝!')"
   ]
  },
  {
   "cell_type": "code",
   "execution_count": null,
   "metadata": {},
   "outputs": [],
   "source": []
  },
  {
   "cell_type": "markdown",
   "metadata": {},
   "source": []
  }
 ],
 "metadata": {
  "kernelspec": {
   "display_name": "base",
   "language": "python",
   "name": "python3"
  },
  "language_info": {
   "codemirror_mode": {
    "name": "ipython",
    "version": 3
   },
   "file_extension": ".py",
   "mimetype": "text/x-python",
   "name": "python",
   "nbconvert_exporter": "python",
   "pygments_lexer": "ipython3",
   "version": "3.11.3"
  },
  "orig_nbformat": 4
 },
 "nbformat": 4,
 "nbformat_minor": 2
}
