{
  "cells": [
    {
      "cell_type": "markdown",
      "metadata": {
        "id": "5wcgkZvbVrsn"
      },
      "source": [
        "# 모델에 필요한 파일 받기"
      ]
    },
    {
      "cell_type": "code",
      "execution_count": 1,
      "metadata": {
        "colab": {
          "base_uri": "https://localhost:8080/"
        },
        "id": "QVz3Nv8KVal2",
        "outputId": "ef31a03b-bf2b-43b3-c3e8-b1c0817b4802"
      },
      "outputs": [
        {
          "name": "stdout",
          "output_type": "stream",
          "text": [
            "/content\n"
          ]
        }
      ],
      "source": [
        "#현재 위치 확인\n",
        "!pwd"
      ]
    },
    {
      "cell_type": "code",
      "execution_count": 2,
      "metadata": {
        "colab": {
          "base_uri": "https://localhost:8080/"
        },
        "id": "d81mcKwgViSI",
        "outputId": "4b80ddd3-b4e0-49d3-8544-0fb21b4210d3"
      },
      "outputs": [
        {
          "name": "stdout",
          "output_type": "stream",
          "text": [
            "Cloning into 'ACGPN'...\n",
            "remote: Enumerating objects: 165, done.\u001b[K\n",
            "remote: Counting objects: 100% (24/24), done.\u001b[K\n",
            "remote: Compressing objects: 100% (6/6), done.\u001b[K\n",
            "remote: Total 165 (delta 21), reused 19 (delta 18), pack-reused 141\u001b[K\n",
            "Receiving objects: 100% (165/165), 303.15 KiB | 16.84 MiB/s, done.\n",
            "Resolving deltas: 100% (62/62), done.\n"
          ]
        }
      ],
      "source": [
        "#ACGPN 모델 파일 다운로드\n",
        "!git clone https://github.com/kairess/ACGPN.git"
      ]
    },
    {
      "cell_type": "code",
      "execution_count": 3,
      "metadata": {
        "colab": {
          "base_uri": "https://localhost:8080/"
        },
        "id": "pMpI-l40Vnc4",
        "outputId": "93933fe9-69bb-45f7-c3be-72d225469786"
      },
      "outputs": [
        {
          "name": "stdout",
          "output_type": "stream",
          "text": [
            "/content/ACGPN\n"
          ]
        }
      ],
      "source": [
        "#다운로드 받은 파일의 위치로 이동\n",
        "%cd ACGPN"
      ]
    },
    {
      "cell_type": "markdown",
      "metadata": {
        "id": "0vSFPFitVzvK"
      },
      "source": [
        "# dependencies 및 사전 파일 준비"
      ]
    },
    {
      "cell_type": "code",
      "execution_count": 4,
      "metadata": {
        "colab": {
          "base_uri": "https://localhost:8080/"
        },
        "id": "MNrXhTpKVyVb",
        "outputId": "708d1ec9-d231-4b14-b26d-46faab125c99"
      },
      "outputs": [
        {
          "name": "stdout",
          "output_type": "stream",
          "text": [
            "\u001b[?25l     \u001b[90m━━━━━━━━━━━━━━━━━━━━━━━━━━━━━━━━━━━━━━━━\u001b[0m \u001b[32m0.0/146.0 kB\u001b[0m \u001b[31m?\u001b[0m eta \u001b[36m-:--:--\u001b[0m\r\u001b[2K     \u001b[91m━━━━━━━━━━━━━━━━━━━━━━━━━━━━━━━━━━━━━\u001b[0m\u001b[90m╺\u001b[0m \u001b[32m143.4/146.0 kB\u001b[0m \u001b[31m64.1 MB/s\u001b[0m eta \u001b[36m0:00:01\u001b[0m\r\u001b[2K     \u001b[90m━━━━━━━━━━━━━━━━━━━━━━━━━━━━━━━━━━━━━━━\u001b[0m \u001b[32m146.0/146.0 kB\u001b[0m \u001b[31m3.8 MB/s\u001b[0m eta \u001b[36m0:00:00\u001b[0m\n",
            "\u001b[?25h"
          ]
        }
      ],
      "source": [
        "!pip install -U --no-cache-dir gdown --pre -qq\n",
        "!pip install ninja -qq"
      ]
    },
    {
      "cell_type": "code",
      "execution_count": 5,
      "metadata": {
        "id": "Z29mLLJ9V47A"
      },
      "outputs": [],
      "source": [
        "import gdown\n",
        "import numpy as np\n",
        "from PIL import Image\n",
        "import IPython\n",
        "import os\n",
        "import sys\n",
        "import time\n",
        "\n",
        "from predict_pose import generate_pose_keypoints"
      ]
    },
    {
      "cell_type": "code",
      "execution_count": 6,
      "metadata": {
        "id": "avsTo1jjV8n2"
      },
      "outputs": [],
      "source": [
        "#모델을 돌리기 위한 파일 준비\n",
        "!mkdir Data_preprocessing/test_color\n",
        "!mkdir Data_preprocessing/test_colormask\n",
        "!mkdir Data_preprocessing/test_edge\n",
        "!mkdir Data_preprocessing/test_img\n",
        "!mkdir Data_preprocessing/test_label\n",
        "!mkdir Data_preprocessing/test_mask\n",
        "!mkdir Data_preprocessing/test_pose\n",
        "!mkdir inputs\n",
        "!mkdir inputs/img\n",
        "!mkdir inputs/cloth"
      ]
    },
    {
      "cell_type": "code",
      "execution_count": 7,
      "metadata": {
        "colab": {
          "base_uri": "https://localhost:8080/"
        },
        "id": "JS2JlsWYV_rG",
        "outputId": "87b62094-2c89-48c1-f4f4-56cbdb3cfd62"
      },
      "outputs": [
        {
          "name": "stdout",
          "output_type": "stream",
          "text": [
            "/content/ACGPN\n"
          ]
        }
      ],
      "source": [
        "#현재 위치 확인\n",
        "!pwd"
      ]
    },
    {
      "cell_type": "code",
      "execution_count": 8,
      "metadata": {
        "colab": {
          "base_uri": "https://localhost:8080/"
        },
        "id": "49WwTnwiWCK7",
        "outputId": "df90b5f1-4fdf-499d-c67a-5e66e8040ce3"
      },
      "outputs": [
        {
          "name": "stdout",
          "output_type": "stream",
          "text": [
            "Cloning into 'Self-Correction-Human-Parsing-for-ACGPN'...\n",
            "remote: Enumerating objects: 769, done.\u001b[K\n",
            "remote: Counting objects: 100% (111/111), done.\u001b[K\n",
            "remote: Compressing objects: 100% (49/49), done.\u001b[K\n",
            "remote: Total 769 (delta 72), reused 62 (delta 62), pack-reused 658\u001b[K\n",
            "Receiving objects: 100% (769/769), 3.80 MiB | 25.75 MiB/s, done.\n",
            "Resolving deltas: 100% (189/189), done.\n",
            "Cloning into 'U-2-Net'...\n",
            "remote: Enumerating objects: 822, done.\u001b[K\n",
            "remote: Counting objects: 100% (822/822), done.\u001b[K\n",
            "remote: Compressing objects: 100% (439/439), done.\u001b[K\n",
            "remote: Total 822 (delta 389), reused 793 (delta 379), pack-reused 0\u001b[K\n",
            "Receiving objects: 100% (822/822), 30.71 MiB | 5.01 MiB/s, done.\n",
            "Resolving deltas: 100% (389/389), done.\n"
          ]
        }
      ],
      "source": [
        "#휴먼 세그멘테이션 모델 파일 다운로드\n",
        "!git clone https://github.com/levindabhi/Self-Correction-Human-Parsing-for-ACGPN.git\n",
        "#옷 마스킹 모델 파일 다운로드\n",
        "!git clone https://github.com/levindabhi/U-2-Net.git"
      ]
    },
    {
      "cell_type": "markdown",
      "metadata": {
        "id": "xuAjjwc-WEpM"
      },
      "source": [
        "# 사전학습된 모델 다운로드"
      ]
    },
    {
      "cell_type": "markdown",
      "metadata": {
        "id": "zWLZLYkbWMAz"
      },
      "source": [
        "# 포즈 예측 모델"
      ]
    },
    {
      "cell_type": "code",
      "execution_count": 9,
      "metadata": {
        "colab": {
          "base_uri": "https://localhost:8080/"
        },
        "id": "Fhz9rATaWDf5",
        "outputId": "1f603480-79f1-43a9-a5e8-23c75d315c4d"
      },
      "outputs": [
        {
          "name": "stdout",
          "output_type": "stream",
          "text": [
            "/usr/local/lib/python3.10/dist-packages/gdown/cli.py:126: FutureWarning: Option `--id` was deprecated in version 4.3.1 and will be removed in 5.0. You don't need to pass it anymore to use a file ID.\n",
            "  warnings.warn(\n",
            "Downloading...\n",
            "From (uriginal): https://drive.google.com/uc?id=11dRA_iLSJFFsOWXuadmH7Apqukc2F_Vf\n",
            "From (redirected): https://drive.google.com/uc?id=11dRA_iLSJFFsOWXuadmH7Apqukc2F_Vf&confirm=t&uuid=0a6b5c6d-1b93-413e-a043-9c35b1c9b753\n",
            "To: /content/ACGPN/pose/pose_iter_440000.caffemodel\n",
            "100% 209M/209M [00:00<00:00, 243MB/s]\n"
          ]
        }
      ],
      "source": [
        "#이제 안돌아감..\n",
        "#!gdown 1hOHMFHEjhoJuLEQY0Ndurn5hfiA9mwko -O pose/pose_iter_440000.caffemodel\n",
        "!gdown --id 11dRA_iLSJFFsOWXuadmH7Apqukc2F_Vf -O pose/pose_iter_440000.caffemodel"
      ]
    },
    {
      "cell_type": "markdown",
      "metadata": {
        "id": "IRAhOeIUWOk4"
      },
      "source": [
        "# 휴먼 세그멘테이션 모델"
      ]
    },
    {
      "cell_type": "code",
      "execution_count": 10,
      "metadata": {
        "colab": {
          "base_uri": "https://localhost:8080/",
          "height": 143
        },
        "id": "hWO0zRmiWJk1",
        "outputId": "59004109-9da4-4644-d930-8446cd643181"
      },
      "outputs": [
        {
          "name": "stderr",
          "output_type": "stream",
          "text": [
            "Downloading...\n",
            "From (uriginal): https://drive.google.com/uc?id=1k4dllHpu0bdx38J7H28rVVLpU-kOHmnH\n",
            "From (redirected): https://drive.google.com/uc?id=1k4dllHpu0bdx38J7H28rVVLpU-kOHmnH&confirm=t&uuid=c0dcb498-ed46-4771-b053-80ba87508d83\n",
            "To: /content/ACGPN/lip_final.pth\n",
            "100%|██████████| 267M/267M [00:00<00:00, 275MB/s]\n"
          ]
        },
        {
          "data": {
            "application/vnd.google.colaboratory.intrinsic+json": {
              "type": "string"
            },
            "text/plain": [
              "'lip_final.pth'"
            ]
          },
          "execution_count": 10,
          "metadata": {},
          "output_type": "execute_result"
        }
      ],
      "source": [
        "gdown.download('https://drive.google.com/uc?id=1k4dllHpu0bdx38J7H28rVVLpU-kOHmnH', 'lip_final.pth', quiet=False)"
      ]
    },
    {
      "cell_type": "markdown",
      "metadata": {
        "id": "F2pn8E-SWQQK"
      },
      "source": [
        "# U-2-Net 모델 (옷 마스크 추출 모델)"
      ]
    },
    {
      "cell_type": "code",
      "execution_count": 11,
      "metadata": {
        "colab": {
          "base_uri": "https://localhost:8080/"
        },
        "id": "ncrkOSPOWLew",
        "outputId": "fb03340c-92ee-4d99-b0fd-cd65d3a314ea"
      },
      "outputs": [
        {
          "name": "stdout",
          "output_type": "stream",
          "text": [
            "/content/ACGPN/U-2-Net\n",
            "mkdir: cannot create directory ‘saved_models’: File exists\n",
            "Downloading...\n",
            "From: https://drive.google.com/uc?id=1rbSTGKAE-MTxBYHd-51l2hMOQPT_7EPy\n",
            "To: /content/ACGPN/U-2-Net/saved_models/u2netp/u2netp.pth\n",
            "100% 4.68M/4.68M [00:00<00:00, 192MB/s]\n",
            "Downloading...\n",
            "From (uriginal): https://drive.google.com/uc?id=1ao1ovG1Qtx4b7EoskHXmi2E9rp5CHLcZ\n",
            "From (redirected): https://drive.google.com/uc?id=1ao1ovG1Qtx4b7EoskHXmi2E9rp5CHLcZ&confirm=t&uuid=6d676878-db6d-4113-84ff-e37ab23b932d\n",
            "To: /content/ACGPN/U-2-Net/saved_models/u2net/u2net.pth\n",
            "100% 176M/176M [00:00<00:00, 265MB/s]\n",
            "...load U2NEP---4.7 MB\n",
            "/content/ACGPN\n"
          ]
        }
      ],
      "source": [
        "#U-2-Net 모델을 돌릴 때 필요한 파일 준비를 위해 해당 모델 파일로 이동\n",
        "%cd U-2-Net\n",
        "\n",
        "#U-2-Net 모델에 필요한 파일 생성\n",
        "!mkdir saved_models\n",
        "!mkdir saved_models/u2net\n",
        "!mkdir saved_models/u2netp\n",
        "\n",
        "#사전 학습된 U-2-Net 모델 다운로드\n",
        "!gdown 1rbSTGKAE-MTxBYHd-51l2hMOQPT_7EPy -O saved_models/u2netp/u2netp.pth\n",
        "!gdown 1ao1ovG1Qtx4b7EoskHXmi2E9rp5CHLcZ -O saved_models/u2net/u2net.pth\n",
        "\n",
        "import u2net_load\n",
        "import u2net_run\n",
        "\n",
        "#로드하려면 쿠다 필요 (위치 확인용)\n",
        "u2net = u2net_load.model(model_name='u2netp')\n",
        "\n",
        "#U-2-Net 모델을 위한 파일 준비가 끝나면 부모 파일로 이동\n",
        "%cd .."
      ]
    },
    {
      "cell_type": "markdown",
      "metadata": {
        "id": "h2lFpdZEWgV2"
      },
      "source": [
        "# ACGPN모델 (사진 합성 모델)"
      ]
    },
    {
      "cell_type": "code",
      "execution_count": 12,
      "metadata": {
        "colab": {
          "base_uri": "https://localhost:8080/"
        },
        "id": "msZwaCghWavD",
        "outputId": "c43bae66-7996-47f3-c410-6da395c61896"
      },
      "outputs": [
        {
          "name": "stderr",
          "output_type": "stream",
          "text": [
            "Downloading...\n",
            "From (uriginal): https://drive.google.com/uc?id=1UWT6esQIU_d4tUm8cjxDKMhB8joQbrFx\n",
            "From (redirected): https://drive.google.com/uc?id=1UWT6esQIU_d4tUm8cjxDKMhB8joQbrFx&confirm=t&uuid=53720e07-4f07-41b6-8903-cdaa811dde7e\n",
            "To: /content/ACGPN/checkpoints/ACGPN_checkpoints.zip\n",
            "100%|██████████| 524M/524M [00:10<00:00, 48.5MB/s]\n"
          ]
        },
        {
          "name": "stdout",
          "output_type": "stream",
          "text": [
            "Archive:  checkpoints/ACGPN_checkpoints.zip\n",
            "   creating: checkpoints/label2city/\n",
            "  inflating: checkpoints/label2city/latest_net_G.pth  \n",
            "  inflating: checkpoints/label2city/latest_net_G1.pth  \n",
            "  inflating: checkpoints/label2city/latest_net_G2.pth  \n",
            "  inflating: checkpoints/label2city/latest_net_U.pth  \n",
            "  inflating: checkpoints/label2city/opt.txt  \n"
          ]
        }
      ],
      "source": [
        "#ACGPN 모델에 필요한 파일 생성\n",
        "!mkdir checkpoints\n",
        "\n",
        "#사전 학습된 ACGPN 모델 다운로드\n",
        "gdown.download('https://drive.google.com/uc?id=1UWT6esQIU_d4tUm8cjxDKMhB8joQbrFx', output='checkpoints/ACGPN_checkpoints.zip', quiet=False)\n",
        "\n",
        "#압축된 모델 파일 풀어서 전에 만든 파일위치에 넣어줌\n",
        "!unzip checkpoints/ACGPN_checkpoints.zip -d checkpoints"
      ]
    },
    {
      "cell_type": "code",
      "execution_count": 13,
      "metadata": {
        "colab": {
          "base_uri": "https://localhost:8080/"
        },
        "id": "0-QQAH9ZKqcQ",
        "outputId": "92537796-cce7-42aa-acbc-7c349e84cff0"
      },
      "outputs": [
        {
          "name": "stdout",
          "output_type": "stream",
          "text": [
            "/content/ACGPN\n"
          ]
        }
      ],
      "source": [
        "#상대경로 사용을 위한 현재 위치 확인\n",
        "!pwd"
      ]
    },
    {
      "cell_type": "code",
      "execution_count": 14,
      "metadata": {
        "colab": {
          "base_uri": "https://localhost:8080/",
          "height": 1000
        },
        "id": "quM7AFnDLjfR",
        "outputId": "c381c278-b1fd-43ed-fa84-456cee20812d"
      },
      "outputs": [
        {
          "name": "stdout",
          "output_type": "stream",
          "text": [
            "Looking in indexes: https://pypi.org/simple, https://us-python.pkg.dev/colab-wheels/public/simple/\n",
            "Collecting colabcode\n",
            "  Downloading colabcode-0.3.0-py3-none-any.whl (5.0 kB)\n",
            "Collecting pyngrok>=5.0.0 (from colabcode)\n",
            "  Downloading pyngrok-6.0.0.tar.gz (681 kB)\n",
            "\u001b[2K     \u001b[90m━━━━━━━━━━━━━━━━━━━━━━━━━━━━━━━━━━━━━━\u001b[0m \u001b[32m681.2/681.2 kB\u001b[0m \u001b[31m34.5 MB/s\u001b[0m eta \u001b[36m0:00:00\u001b[0m\n",
            "\u001b[?25h  Preparing metadata (setup.py) ... \u001b[?25l\u001b[?25hdone\n",
            "Collecting nest-asyncio==1.4.3 (from colabcode)\n",
            "  Downloading nest_asyncio-1.4.3-py3-none-any.whl (5.3 kB)\n",
            "Collecting uvicorn==0.13.1 (from colabcode)\n",
            "  Downloading uvicorn-0.13.1-py3-none-any.whl (45 kB)\n",
            "\u001b[2K     \u001b[90m━━━━━━━━━━━━━━━━━━━━━━━━━━━━━━━━━━━━━━━━\u001b[0m \u001b[32m45.5/45.5 kB\u001b[0m \u001b[31m6.2 MB/s\u001b[0m eta \u001b[36m0:00:00\u001b[0m\n",
            "\u001b[?25hCollecting jupyterlab==3.0.7 (from colabcode)\n",
            "  Downloading jupyterlab-3.0.7-py3-none-any.whl (8.3 MB)\n",
            "\u001b[2K     \u001b[90m━━━━━━━━━━━━━━━━━━━━━━━━━━━━━━━━━━━━━━━━\u001b[0m \u001b[32m8.3/8.3 MB\u001b[0m \u001b[31m101.0 MB/s\u001b[0m eta \u001b[36m0:00:00\u001b[0m\n",
            "\u001b[?25hRequirement already satisfied: ipython in /usr/local/lib/python3.10/dist-packages (from jupyterlab==3.0.7->colabcode) (7.34.0)\n",
            "Requirement already satisfied: packaging in /usr/local/lib/python3.10/dist-packages (from jupyterlab==3.0.7->colabcode) (23.1)\n",
            "Requirement already satisfied: tornado>=6.1.0 in /usr/local/lib/python3.10/dist-packages (from jupyterlab==3.0.7->colabcode) (6.3.1)\n",
            "Requirement already satisfied: jupyter-core in /usr/local/lib/python3.10/dist-packages (from jupyterlab==3.0.7->colabcode) (5.3.0)\n",
            "Collecting jupyterlab-server~=2.0 (from jupyterlab==3.0.7->colabcode)\n",
            "  Downloading jupyterlab_server-2.22.1-py3-none-any.whl (57 kB)\n",
            "\u001b[2K     \u001b[90m━━━━━━━━━━━━━━━━━━━━━━━━━━━━━━━━━━━━━━━━\u001b[0m \u001b[32m57.0/57.0 kB\u001b[0m \u001b[31m8.1 MB/s\u001b[0m eta \u001b[36m0:00:00\u001b[0m\n",
            "\u001b[?25hRequirement already satisfied: jupyter-server~=1.2 in /usr/local/lib/python3.10/dist-packages (from jupyterlab==3.0.7->colabcode) (1.24.0)\n",
            "Collecting nbclassic~=0.2 (from jupyterlab==3.0.7->colabcode)\n",
            "  Downloading nbclassic-0.5.6-py3-none-any.whl (10.0 MB)\n",
            "\u001b[2K     \u001b[90m━━━━━━━━━━━━━━━━━━━━━━━━━━━━━━━━━━━━━━━\u001b[0m \u001b[32m10.0/10.0 MB\u001b[0m \u001b[31m119.8 MB/s\u001b[0m eta \u001b[36m0:00:00\u001b[0m\n",
            "\u001b[?25hRequirement already satisfied: jinja2>=2.10 in /usr/local/lib/python3.10/dist-packages (from jupyterlab==3.0.7->colabcode) (3.1.2)\n",
            "Collecting click==7.* (from uvicorn==0.13.1->colabcode)\n",
            "  Downloading click-7.1.2-py2.py3-none-any.whl (82 kB)\n",
            "\u001b[2K     \u001b[90m━━━━━━━━━━━━━━━━━━━━━━━━━━━━━━━━━━━━━━━━\u001b[0m \u001b[32m82.8/82.8 kB\u001b[0m \u001b[31m12.6 MB/s\u001b[0m eta \u001b[36m0:00:00\u001b[0m\n",
            "\u001b[?25hCollecting h11>=0.8 (from uvicorn==0.13.1->colabcode)\n",
            "  Downloading h11-0.14.0-py3-none-any.whl (58 kB)\n",
            "\u001b[2K     \u001b[90m━━━━━━━━━━━━━━━━━━━━━━━━━━━━━━━━━━━━━━━━\u001b[0m \u001b[32m58.3/58.3 kB\u001b[0m \u001b[31m7.8 MB/s\u001b[0m eta \u001b[36m0:00:00\u001b[0m\n",
            "\u001b[?25hRequirement already satisfied: PyYAML in /usr/local/lib/python3.10/dist-packages (from pyngrok>=5.0.0->colabcode) (6.0)\n",
            "Requirement already satisfied: MarkupSafe>=2.0 in /usr/local/lib/python3.10/dist-packages (from jinja2>=2.10->jupyterlab==3.0.7->colabcode) (2.1.2)\n",
            "Requirement already satisfied: anyio<4,>=3.1.0 in /usr/local/lib/python3.10/dist-packages (from jupyter-server~=1.2->jupyterlab==3.0.7->colabcode) (3.6.2)\n",
            "Requirement already satisfied: argon2-cffi in /usr/local/lib/python3.10/dist-packages (from jupyter-server~=1.2->jupyterlab==3.0.7->colabcode) (21.3.0)\n",
            "Requirement already satisfied: jupyter-client>=6.1.12 in /usr/local/lib/python3.10/dist-packages (from jupyter-server~=1.2->jupyterlab==3.0.7->colabcode) (6.1.12)\n",
            "Requirement already satisfied: nbconvert>=6.4.4 in /usr/local/lib/python3.10/dist-packages (from jupyter-server~=1.2->jupyterlab==3.0.7->colabcode) (6.5.4)\n",
            "Requirement already satisfied: nbformat>=5.2.0 in /usr/local/lib/python3.10/dist-packages (from jupyter-server~=1.2->jupyterlab==3.0.7->colabcode) (5.8.0)\n",
            "Requirement already satisfied: prometheus-client in /usr/local/lib/python3.10/dist-packages (from jupyter-server~=1.2->jupyterlab==3.0.7->colabcode) (0.16.0)\n",
            "Requirement already satisfied: pyzmq>=17 in /usr/local/lib/python3.10/dist-packages (from jupyter-server~=1.2->jupyterlab==3.0.7->colabcode) (23.2.1)\n",
            "Requirement already satisfied: Send2Trash in /usr/local/lib/python3.10/dist-packages (from jupyter-server~=1.2->jupyterlab==3.0.7->colabcode) (1.8.0)\n",
            "Requirement already satisfied: terminado>=0.8.3 in /usr/local/lib/python3.10/dist-packages (from jupyter-server~=1.2->jupyterlab==3.0.7->colabcode) (0.17.1)\n",
            "Requirement already satisfied: traitlets>=5.1 in /usr/local/lib/python3.10/dist-packages (from jupyter-server~=1.2->jupyterlab==3.0.7->colabcode) (5.7.1)\n",
            "Requirement already satisfied: websocket-client in /usr/local/lib/python3.10/dist-packages (from jupyter-server~=1.2->jupyterlab==3.0.7->colabcode) (1.5.1)\n",
            "Requirement already satisfied: platformdirs>=2.5 in /usr/local/lib/python3.10/dist-packages (from jupyter-core->jupyterlab==3.0.7->colabcode) (3.3.0)\n",
            "Requirement already satisfied: babel>=2.10 in /usr/local/lib/python3.10/dist-packages (from jupyterlab-server~=2.0->jupyterlab==3.0.7->colabcode) (2.12.1)\n",
            "Collecting json5>=0.9.0 (from jupyterlab-server~=2.0->jupyterlab==3.0.7->colabcode)\n",
            "  Downloading json5-0.9.14-py2.py3-none-any.whl (19 kB)\n",
            "Collecting jsonschema>=4.17.3 (from jupyterlab-server~=2.0->jupyterlab==3.0.7->colabcode)\n",
            "  Downloading jsonschema-4.17.3-py3-none-any.whl (90 kB)\n",
            "\u001b[2K     \u001b[90m━━━━━━━━━━━━━━━━━━━━━━━━━━━━━━━━━━━━━━━━\u001b[0m \u001b[32m90.4/90.4 kB\u001b[0m \u001b[31m12.7 MB/s\u001b[0m eta \u001b[36m0:00:00\u001b[0m\n",
            "\u001b[?25hCollecting requests>=2.28 (from jupyterlab-server~=2.0->jupyterlab==3.0.7->colabcode)\n",
            "  Downloading requests-2.30.0-py3-none-any.whl (62 kB)\n",
            "\u001b[2K     \u001b[90m━━━━━━━━━━━━━━━━━━━━━━━━━━━━━━━━━━━━━━━━\u001b[0m \u001b[32m62.5/62.5 kB\u001b[0m \u001b[31m9.1 MB/s\u001b[0m eta \u001b[36m0:00:00\u001b[0m\n",
            "\u001b[?25hRequirement already satisfied: ipython-genutils in /usr/local/lib/python3.10/dist-packages (from nbclassic~=0.2->jupyterlab==3.0.7->colabcode) (0.2.0)\n",
            "Collecting notebook-shim>=0.2.3 (from nbclassic~=0.2->jupyterlab==3.0.7->colabcode)\n",
            "  Downloading notebook_shim-0.2.3-py3-none-any.whl (13 kB)\n",
            "INFO: pip is looking at multiple versions of nbclassic to determine which version is compatible with other requirements. This could take a while.\n",
            "Collecting nbclassic~=0.2 (from jupyterlab==3.0.7->colabcode)\n",
            "  Downloading nbclassic-0.5.5-py3-none-any.whl (10.0 MB)\n",
            "\u001b[2K     \u001b[90m━━━━━━━━━━━━━━━━━━━━━━━━━━━━━━━━━━━━━━━\u001b[0m \u001b[32m10.0/10.0 MB\u001b[0m \u001b[31m121.5 MB/s\u001b[0m eta \u001b[36m0:00:00\u001b[0m\n",
            "\u001b[?25h  Downloading nbclassic-0.5.4-py3-none-any.whl (10.0 MB)\n",
            "\u001b[2K     \u001b[90m━━━━━━━━━━━━━━━━━━━━━━━━━━━━━━━━━━━━━━━━\u001b[0m \u001b[32m10.0/10.0 MB\u001b[0m \u001b[31m94.6 MB/s\u001b[0m eta \u001b[36m0:00:00\u001b[0m\n",
            "\u001b[?25h  Downloading nbclassic-0.5.3-py3-none-any.whl (10.0 MB)\n",
            "\u001b[2K     \u001b[90m━━━━━━━━━━━━━━━━━━━━━━━━━━━━━━━━━━━━━━━\u001b[0m \u001b[32m10.0/10.0 MB\u001b[0m \u001b[31m100.5 MB/s\u001b[0m eta \u001b[36m0:00:00\u001b[0m\n",
            "\u001b[?25h  Downloading nbclassic-0.5.2-py3-none-any.whl (10.0 MB)\n",
            "\u001b[2K     \u001b[90m━━━━━━━━━━━━━━━━━━━━━━━━━━━━━━━━━━━━━━━\u001b[0m \u001b[32m10.0/10.0 MB\u001b[0m \u001b[31m119.9 MB/s\u001b[0m eta \u001b[36m0:00:00\u001b[0m\n",
            "\u001b[?25h  Downloading nbclassic-0.5.1-py3-none-any.whl (10.0 MB)\n",
            "\u001b[2K     \u001b[90m━━━━━━━━━━━━━━━━━━━━━━━━━━━━━━━━━━━━━━━━\u001b[0m \u001b[32m10.0/10.0 MB\u001b[0m \u001b[31m83.8 MB/s\u001b[0m eta \u001b[36m0:00:00\u001b[0m\n",
            "\u001b[?25h  Downloading nbclassic-0.4.8-py3-none-any.whl (9.8 MB)\n",
            "\u001b[2K     \u001b[90m━━━━━━━━━━━━━━━━━━━━━━━━━━━━━━━━━━━━━━━━\u001b[0m \u001b[32m9.8/9.8 MB\u001b[0m \u001b[31m128.7 MB/s\u001b[0m eta \u001b[36m0:00:00\u001b[0m\n",
            "\u001b[?25h  Downloading nbclassic-0.4.7-py3-none-any.whl (9.8 MB)\n",
            "\u001b[2K     \u001b[90m━━━━━━━━━━━━━━━━━━━━━━━━━━━━━━━━━━━━━━━━\u001b[0m \u001b[32m9.8/9.8 MB\u001b[0m \u001b[31m19.3 MB/s\u001b[0m eta \u001b[36m0:00:00\u001b[0m\n",
            "\u001b[?25hINFO: pip is looking at multiple versions of nbclassic to determine which version is compatible with other requirements. This could take a while.\n",
            "  Downloading nbclassic-0.4.6-py3-none-any.whl (9.8 MB)\n",
            "\u001b[2K     \u001b[90m━━━━━━━━━━━━━━━━━━━━━━━━━━━━━━━━━━━━━━━━\u001b[0m \u001b[32m9.8/9.8 MB\u001b[0m \u001b[31m104.5 MB/s\u001b[0m eta \u001b[36m0:00:00\u001b[0m\n",
            "\u001b[?25h  Downloading nbclassic-0.4.5-py3-none-any.whl (9.8 MB)\n",
            "\u001b[2K     \u001b[90m━━━━━━━━━━━━━━━━━━━━━━━━━━━━━━━━━━━━━━━━\u001b[0m \u001b[32m9.8/9.8 MB\u001b[0m \u001b[31m103.5 MB/s\u001b[0m eta \u001b[36m0:00:00\u001b[0m\n",
            "\u001b[?25h  Downloading nbclassic-0.4.4-py3-none-any.whl (9.8 MB)\n",
            "\u001b[2K     \u001b[90m━━━━━━━━━━━━━━━━━━━━━━━━━━━━━━━━━━━━━━━━\u001b[0m \u001b[32m9.8/9.8 MB\u001b[0m \u001b[31m117.3 MB/s\u001b[0m eta \u001b[36m0:00:00\u001b[0m\n",
            "\u001b[?25h  Downloading nbclassic-0.4.3-py3-none-any.whl (9.7 MB)\n",
            "\u001b[2K     \u001b[90m━━━━━━━━━━━━━━━━━━━━━━━━━━━━━━━━━━━━━━━━\u001b[0m \u001b[32m9.7/9.7 MB\u001b[0m \u001b[31m111.3 MB/s\u001b[0m eta \u001b[36m0:00:00\u001b[0m\n",
            "\u001b[?25h  Downloading nbclassic-0.4.2-py3-none-any.whl (9.7 MB)\n",
            "\u001b[2K     \u001b[90m━━━━━━━━━━━━━━━━━━━━━━━━━━━━━━━━━━━━━━━━\u001b[0m \u001b[32m9.7/9.7 MB\u001b[0m \u001b[31m127.9 MB/s\u001b[0m eta \u001b[36m0:00:00\u001b[0m\n",
            "\u001b[?25hINFO: This is taking longer than usual. You might need to provide the dependency resolver with stricter constraints to reduce runtime. See https://pip.pypa.io/warnings/backtracking for guidance. If you want to abort this run, press Ctrl + C.\n",
            "  Downloading nbclassic-0.4.0-py3-none-any.whl (9.7 MB)\n",
            "\u001b[2K     \u001b[90m━━━━━━━━━━━━━━━━━━━━━━━━━━━━━━━━━━━━━━━━\u001b[0m \u001b[32m9.7/9.7 MB\u001b[0m \u001b[31m123.9 MB/s\u001b[0m eta \u001b[36m0:00:00\u001b[0m\n",
            "\u001b[?25h  Downloading nbclassic-0.3.7-py3-none-any.whl (13 kB)\n",
            "Requirement already satisfied: notebook<7 in /usr/local/lib/python3.10/dist-packages (from nbclassic~=0.2->jupyterlab==3.0.7->colabcode) (6.4.8)\n",
            "Requirement already satisfied: setuptools>=18.5 in /usr/local/lib/python3.10/dist-packages (from ipython->jupyterlab==3.0.7->colabcode) (67.7.2)\n",
            "Collecting jedi>=0.16 (from ipython->jupyterlab==3.0.7->colabcode)\n",
            "  Downloading jedi-0.18.2-py2.py3-none-any.whl (1.6 MB)\n",
            "\u001b[2K     \u001b[90m━━━━━━━━━━━━━━━━━━━━━━━━━━━━━━━━━━━━━━━━\u001b[0m \u001b[32m1.6/1.6 MB\u001b[0m \u001b[31m92.8 MB/s\u001b[0m eta \u001b[36m0:00:00\u001b[0m\n",
            "\u001b[?25hRequirement already satisfied: decorator in /usr/local/lib/python3.10/dist-packages (from ipython->jupyterlab==3.0.7->colabcode) (4.4.2)\n",
            "Requirement already satisfied: pickleshare in /usr/local/lib/python3.10/dist-packages (from ipython->jupyterlab==3.0.7->colabcode) (0.7.5)\n",
            "Requirement already satisfied: prompt-toolkit!=3.0.0,!=3.0.1,<3.1.0,>=2.0.0 in /usr/local/lib/python3.10/dist-packages (from ipython->jupyterlab==3.0.7->colabcode) (3.0.38)\n",
            "Requirement already satisfied: pygments in /usr/local/lib/python3.10/dist-packages (from ipython->jupyterlab==3.0.7->colabcode) (2.14.0)\n",
            "Requirement already satisfied: backcall in /usr/local/lib/python3.10/dist-packages (from ipython->jupyterlab==3.0.7->colabcode) (0.2.0)\n",
            "Requirement already satisfied: matplotlib-inline in /usr/local/lib/python3.10/dist-packages (from ipython->jupyterlab==3.0.7->colabcode) (0.1.6)\n",
            "Requirement already satisfied: pexpect>4.3 in /usr/local/lib/python3.10/dist-packages (from ipython->jupyterlab==3.0.7->colabcode) (4.8.0)\n",
            "Requirement already satisfied: idna>=2.8 in /usr/local/lib/python3.10/dist-packages (from anyio<4,>=3.1.0->jupyter-server~=1.2->jupyterlab==3.0.7->colabcode) (3.4)\n",
            "Requirement already satisfied: sniffio>=1.1 in /usr/local/lib/python3.10/dist-packages (from anyio<4,>=3.1.0->jupyter-server~=1.2->jupyterlab==3.0.7->colabcode) (1.3.0)\n",
            "Requirement already satisfied: parso<0.9.0,>=0.8.0 in /usr/local/lib/python3.10/dist-packages (from jedi>=0.16->ipython->jupyterlab==3.0.7->colabcode) (0.8.3)\n",
            "Requirement already satisfied: attrs>=17.4.0 in /usr/local/lib/python3.10/dist-packages (from jsonschema>=4.17.3->jupyterlab-server~=2.0->jupyterlab==3.0.7->colabcode) (23.1.0)\n",
            "Requirement already satisfied: pyrsistent!=0.17.0,!=0.17.1,!=0.17.2,>=0.14.0 in /usr/local/lib/python3.10/dist-packages (from jsonschema>=4.17.3->jupyterlab-server~=2.0->jupyterlab==3.0.7->colabcode) (0.19.3)\n",
            "Requirement already satisfied: python-dateutil>=2.1 in /usr/local/lib/python3.10/dist-packages (from jupyter-client>=6.1.12->jupyter-server~=1.2->jupyterlab==3.0.7->colabcode) (2.8.2)\n",
            "Requirement already satisfied: lxml in /usr/local/lib/python3.10/dist-packages (from nbconvert>=6.4.4->jupyter-server~=1.2->jupyterlab==3.0.7->colabcode) (4.9.2)\n",
            "Requirement already satisfied: beautifulsoup4 in /usr/local/lib/python3.10/dist-packages (from nbconvert>=6.4.4->jupyter-server~=1.2->jupyterlab==3.0.7->colabcode) (4.11.2)\n",
            "Requirement already satisfied: bleach in /usr/local/lib/python3.10/dist-packages (from nbconvert>=6.4.4->jupyter-server~=1.2->jupyterlab==3.0.7->colabcode) (6.0.0)\n",
            "Requirement already satisfied: defusedxml in /usr/local/lib/python3.10/dist-packages (from nbconvert>=6.4.4->jupyter-server~=1.2->jupyterlab==3.0.7->colabcode) (0.7.1)\n",
            "Requirement already satisfied: entrypoints>=0.2.2 in /usr/local/lib/python3.10/dist-packages (from nbconvert>=6.4.4->jupyter-server~=1.2->jupyterlab==3.0.7->colabcode) (0.4)\n",
            "Requirement already satisfied: jupyterlab-pygments in /usr/local/lib/python3.10/dist-packages (from nbconvert>=6.4.4->jupyter-server~=1.2->jupyterlab==3.0.7->colabcode) (0.2.2)\n",
            "Requirement already satisfied: mistune<2,>=0.8.1 in /usr/local/lib/python3.10/dist-packages (from nbconvert>=6.4.4->jupyter-server~=1.2->jupyterlab==3.0.7->colabcode) (0.8.4)\n",
            "Requirement already satisfied: nbclient>=0.5.0 in /usr/local/lib/python3.10/dist-packages (from nbconvert>=6.4.4->jupyter-server~=1.2->jupyterlab==3.0.7->colabcode) (0.7.4)\n",
            "Requirement already satisfied: pandocfilters>=1.4.1 in /usr/local/lib/python3.10/dist-packages (from nbconvert>=6.4.4->jupyter-server~=1.2->jupyterlab==3.0.7->colabcode) (1.5.0)\n",
            "Requirement already satisfied: tinycss2 in /usr/local/lib/python3.10/dist-packages (from nbconvert>=6.4.4->jupyter-server~=1.2->jupyterlab==3.0.7->colabcode) (1.2.1)\n",
            "Requirement already satisfied: fastjsonschema in /usr/local/lib/python3.10/dist-packages (from nbformat>=5.2.0->jupyter-server~=1.2->jupyterlab==3.0.7->colabcode) (2.16.3)\n",
            "INFO: pip is looking at multiple versions of notebook to determine which version is compatible with other requirements. This could take a while.\n",
            "Collecting notebook<7 (from nbclassic~=0.2->jupyterlab==3.0.7->colabcode)\n",
            "  Downloading notebook-6.5.4-py3-none-any.whl (529 kB)\n",
            "\u001b[2K     \u001b[90m━━━━━━━━━━━━━━━━━━━━━━━━━━━━━━━━━━━━━━\u001b[0m \u001b[32m529.8/529.8 kB\u001b[0m \u001b[31m53.2 MB/s\u001b[0m eta \u001b[36m0:00:00\u001b[0m\n",
            "\u001b[?25h  Downloading notebook-6.5.3-py3-none-any.whl (529 kB)\n",
            "\u001b[2K     \u001b[90m━━━━━━━━━━━━━━━━━━━━━━━━━━━━━━━━━━━━━━\u001b[0m \u001b[32m529.7/529.7 kB\u001b[0m \u001b[31m48.5 MB/s\u001b[0m eta \u001b[36m0:00:00\u001b[0m\n",
            "\u001b[?25h  Downloading notebook-6.5.2-py3-none-any.whl (439 kB)\n",
            "\u001b[2K     \u001b[90m━━━━━━━━━━━━━━━━━━━━━━━━━━━━━━━━━━━━━━\u001b[0m \u001b[32m439.1/439.1 kB\u001b[0m \u001b[31m47.3 MB/s\u001b[0m eta \u001b[36m0:00:00\u001b[0m\n",
            "\u001b[?25h  Downloading notebook-6.5.1-py3-none-any.whl (439 kB)\n",
            "\u001b[2K     \u001b[90m━━━━━━━━━━━━━━━━━━━━━━━━━━━━━━━━━━━━━━\u001b[0m \u001b[32m439.1/439.1 kB\u001b[0m \u001b[31m44.9 MB/s\u001b[0m eta \u001b[36m0:00:00\u001b[0m\n",
            "\u001b[?25h  Downloading notebook-6.4.12-py3-none-any.whl (9.9 MB)\n",
            "\u001b[2K     \u001b[90m━━━━━━━━━━━━━━━━━━━━━━━━━━━━━━━━━━━━━━━━\u001b[0m \u001b[32m9.9/9.9 MB\u001b[0m \u001b[31m104.9 MB/s\u001b[0m eta \u001b[36m0:00:00\u001b[0m\n",
            "\u001b[?25h  Downloading notebook-6.4.11-py3-none-any.whl (9.9 MB)\n",
            "\u001b[2K     \u001b[90m━━━━━━━━━━━━━━━━━━━━━━━━━━━━━━━━━━━━━━━━\u001b[0m \u001b[32m9.9/9.9 MB\u001b[0m \u001b[31m124.0 MB/s\u001b[0m eta \u001b[36m0:00:00\u001b[0m\n",
            "\u001b[?25h  Downloading notebook-6.4.10-py3-none-any.whl (9.9 MB)\n",
            "\u001b[2K     \u001b[90m━━━━━━━━━━━━━━━━━━━━━━━━━━━━━━━━━━━━━━━━\u001b[0m \u001b[32m9.9/9.9 MB\u001b[0m \u001b[31m18.9 MB/s\u001b[0m eta \u001b[36m0:00:00\u001b[0m\n",
            "\u001b[?25hINFO: pip is looking at multiple versions of notebook to determine which version is compatible with other requirements. This could take a while.\n",
            "  Downloading notebook-6.4.9-py3-none-any.whl (9.9 MB)\n",
            "\u001b[2K     \u001b[90m━━━━━━━━━━━━━━━━━━━━━━━━━━━━━━━━━━━━━━━━\u001b[0m \u001b[32m9.9/9.9 MB\u001b[0m \u001b[31m128.6 MB/s\u001b[0m eta \u001b[36m0:00:00\u001b[0m\n",
            "\u001b[?25h  Downloading notebook-6.4.7-py3-none-any.whl (9.9 MB)\n",
            "\u001b[2K     \u001b[90m━━━━━━━━━━━━━━━━━━━━━━━━━━━━━━━━━━━━━━━━\u001b[0m \u001b[32m9.9/9.9 MB\u001b[0m \u001b[31m109.7 MB/s\u001b[0m eta \u001b[36m0:00:00\u001b[0m\n",
            "\u001b[?25h  Downloading notebook-6.4.6-py3-none-any.whl (9.9 MB)\n",
            "\u001b[2K     \u001b[90m━━━━━━━━━━━━━━━━━━━━━━━━━━━━━━━━━━━━━━━━\u001b[0m \u001b[32m9.9/9.9 MB\u001b[0m \u001b[31m101.4 MB/s\u001b[0m eta \u001b[36m0:00:00\u001b[0m\n",
            "\u001b[?25h  Downloading notebook-6.4.5-py3-none-any.whl (9.9 MB)\n",
            "\u001b[2K     \u001b[90m━━━━━━━━━━━━━━━━━━━━━━━━━━━━━━━━━━━━━━━━\u001b[0m \u001b[32m9.9/9.9 MB\u001b[0m \u001b[31m80.3 MB/s\u001b[0m eta \u001b[36m0:00:00\u001b[0m\n",
            "\u001b[?25hRequirement already satisfied: ipykernel in /usr/local/lib/python3.10/dist-packages (from notebook<7->nbclassic~=0.2->jupyterlab==3.0.7->colabcode) (5.5.6)\n",
            "Requirement already satisfied: ptyprocess>=0.5 in /usr/local/lib/python3.10/dist-packages (from pexpect>4.3->ipython->jupyterlab==3.0.7->colabcode) (0.7.0)\n",
            "Requirement already satisfied: wcwidth in /usr/local/lib/python3.10/dist-packages (from prompt-toolkit!=3.0.0,!=3.0.1,<3.1.0,>=2.0.0->ipython->jupyterlab==3.0.7->colabcode) (0.2.6)\n",
            "Requirement already satisfied: charset-normalizer<4,>=2 in /usr/local/lib/python3.10/dist-packages (from requests>=2.28->jupyterlab-server~=2.0->jupyterlab==3.0.7->colabcode) (2.0.12)\n",
            "Requirement already satisfied: urllib3<3,>=1.21.1 in /usr/local/lib/python3.10/dist-packages (from requests>=2.28->jupyterlab-server~=2.0->jupyterlab==3.0.7->colabcode) (1.26.15)\n",
            "Requirement already satisfied: certifi>=2017.4.17 in /usr/local/lib/python3.10/dist-packages (from requests>=2.28->jupyterlab-server~=2.0->jupyterlab==3.0.7->colabcode) (2022.12.7)\n",
            "Requirement already satisfied: argon2-cffi-bindings in /usr/local/lib/python3.10/dist-packages (from argon2-cffi->jupyter-server~=1.2->jupyterlab==3.0.7->colabcode) (21.2.0)\n",
            "Requirement already satisfied: six>=1.5 in /usr/local/lib/python3.10/dist-packages (from python-dateutil>=2.1->jupyter-client>=6.1.12->jupyter-server~=1.2->jupyterlab==3.0.7->colabcode) (1.16.0)\n",
            "Requirement already satisfied: cffi>=1.0.1 in /usr/local/lib/python3.10/dist-packages (from argon2-cffi-bindings->argon2-cffi->jupyter-server~=1.2->jupyterlab==3.0.7->colabcode) (1.15.1)\n",
            "Requirement already satisfied: soupsieve>1.2 in /usr/local/lib/python3.10/dist-packages (from beautifulsoup4->nbconvert>=6.4.4->jupyter-server~=1.2->jupyterlab==3.0.7->colabcode) (2.4.1)\n",
            "Requirement already satisfied: webencodings in /usr/local/lib/python3.10/dist-packages (from bleach->nbconvert>=6.4.4->jupyter-server~=1.2->jupyterlab==3.0.7->colabcode) (0.5.1)\n",
            "Requirement already satisfied: pycparser in /usr/local/lib/python3.10/dist-packages (from cffi>=1.0.1->argon2-cffi-bindings->argon2-cffi->jupyter-server~=1.2->jupyterlab==3.0.7->colabcode) (2.21)\n",
            "Building wheels for collected packages: pyngrok\n",
            "  Building wheel for pyngrok (setup.py) ... \u001b[?25l\u001b[?25hdone\n",
            "  Created wheel for pyngrok: filename=pyngrok-6.0.0-py3-none-any.whl size=19867 sha256=bf7eef3c752f746dcce63d98c93b324bc3861048735cce981a900d4969d69afa\n",
            "  Stored in directory: /root/.cache/pip/wheels/5c/42/78/0c3d438d7f5730451a25f7ac6cbf4391759d22a67576ed7c2c\n",
            "Successfully built pyngrok\n",
            "Installing collected packages: json5, requests, pyngrok, nest-asyncio, jsonschema, jedi, h11, click, uvicorn, notebook, notebook-shim, jupyterlab-server, nbclassic, jupyterlab, colabcode\n",
            "  Attempting uninstall: requests\n",
            "    Found existing installation: requests 2.27.1\n",
            "    Uninstalling requests-2.27.1:\n",
            "      Successfully uninstalled requests-2.27.1\n",
            "  Attempting uninstall: nest-asyncio\n",
            "    Found existing installation: nest-asyncio 1.5.6\n",
            "    Uninstalling nest-asyncio-1.5.6:\n",
            "      Successfully uninstalled nest-asyncio-1.5.6\n",
            "  Attempting uninstall: jsonschema\n",
            "    Found existing installation: jsonschema 4.3.3\n",
            "    Uninstalling jsonschema-4.3.3:\n",
            "      Successfully uninstalled jsonschema-4.3.3\n",
            "  Attempting uninstall: click\n",
            "    Found existing installation: click 8.1.3\n",
            "    Uninstalling click-8.1.3:\n",
            "      Successfully uninstalled click-8.1.3\n",
            "  Attempting uninstall: notebook\n",
            "    Found existing installation: notebook 6.4.8\n",
            "    Uninstalling notebook-6.4.8:\n",
            "      Successfully uninstalled notebook-6.4.8\n",
            "\u001b[31mERROR: pip's dependency resolver does not currently take into account all the packages that are installed. This behaviour is the source of the following dependency conflicts.\n",
            "flask 2.2.4 requires click>=8.0, but you have click 7.1.2 which is incompatible.\n",
            "google-colab 1.0.0 requires notebook==6.4.8, but you have notebook 6.4.5 which is incompatible.\n",
            "pip-tools 6.13.0 requires click>=8, but you have click 7.1.2 which is incompatible.\u001b[0m\u001b[31m\n",
            "\u001b[0mSuccessfully installed click-7.1.2 colabcode-0.3.0 h11-0.14.0 jedi-0.18.2 json5-0.9.14 jsonschema-4.17.3 jupyterlab-3.0.7 jupyterlab-server-2.22.1 nbclassic-0.3.7 nest-asyncio-1.4.3 notebook-6.4.5 notebook-shim-0.2.3 pyngrok-6.0.0 requests-2.30.0 uvicorn-0.13.1\n"
          ]
        },
        {
          "data": {
            "application/vnd.colab-display-data+json": {
              "pip_warning": {
                "packages": [
                  "requests"
                ]
              }
            }
          },
          "metadata": {},
          "output_type": "display_data"
        }
      ],
      "source": [
        "!pip install colabcode"
      ]
    },
    {
      "cell_type": "code",
      "execution_count": 15,
      "metadata": {
        "colab": {
          "base_uri": "https://localhost:8080/"
        },
        "id": "opV2u3U5Ljc_",
        "outputId": "fdda2e72-484b-44d5-8aab-d29b8438e34f"
      },
      "outputs": [
        {
          "name": "stdout",
          "output_type": "stream",
          "text": [
            "Looking in indexes: https://pypi.org/simple, https://us-python.pkg.dev/colab-wheels/public/simple/\n",
            "Collecting fastapi[all]\n",
            "  Downloading fastapi-0.95.1-py3-none-any.whl (56 kB)\n",
            "\u001b[2K     \u001b[90m━━━━━━━━━━━━━━━━━━━━━━━━━━━━━━━━━━━━━━━━\u001b[0m \u001b[32m57.0/57.0 kB\u001b[0m \u001b[31m6.9 MB/s\u001b[0m eta \u001b[36m0:00:00\u001b[0m\n",
            "\u001b[?25hRequirement already satisfied: pydantic!=1.7,!=1.7.1,!=1.7.2,!=1.7.3,!=1.8,!=1.8.1,<2.0.0,>=1.6.2 in /usr/local/lib/python3.10/dist-packages (from fastapi[all]) (1.10.7)\n",
            "Collecting starlette<0.27.0,>=0.26.1 (from fastapi[all])\n",
            "  Downloading starlette-0.26.1-py3-none-any.whl (66 kB)\n",
            "\u001b[2K     \u001b[90m━━━━━━━━━━━━━━━━━━━━━━━━━━━━━━━━━━━━━━━━\u001b[0m \u001b[32m66.9/66.9 kB\u001b[0m \u001b[31m10.2 MB/s\u001b[0m eta \u001b[36m0:00:00\u001b[0m\n",
            "\u001b[?25hCollecting email-validator>=1.1.1 (from fastapi[all])\n",
            "  Downloading email_validator-2.0.0.post2-py3-none-any.whl (31 kB)\n",
            "Collecting httpx>=0.23.0 (from fastapi[all])\n",
            "  Downloading httpx-0.24.0-py3-none-any.whl (75 kB)\n",
            "\u001b[2K     \u001b[90m━━━━━━━━━━━━━━━━━━━━━━━━━━━━━━━━━━━━━━━━\u001b[0m \u001b[32m75.3/75.3 kB\u001b[0m \u001b[31m10.4 MB/s\u001b[0m eta \u001b[36m0:00:00\u001b[0m\n",
            "\u001b[?25hRequirement already satisfied: itsdangerous>=1.1.0 in /usr/local/lib/python3.10/dist-packages (from fastapi[all]) (2.1.2)\n",
            "Requirement already satisfied: jinja2>=2.11.2 in /usr/local/lib/python3.10/dist-packages (from fastapi[all]) (3.1.2)\n",
            "Collecting orjson>=3.2.1 (from fastapi[all])\n",
            "  Downloading orjson-3.8.12-cp310-cp310-manylinux_2_17_x86_64.manylinux2014_x86_64.whl (137 kB)\n",
            "\u001b[2K     \u001b[90m━━━━━━━━━━━━━━━━━━━━━━━━━━━━━━━━━━━━━━\u001b[0m \u001b[32m137.2/137.2 kB\u001b[0m \u001b[31m18.3 MB/s\u001b[0m eta \u001b[36m0:00:00\u001b[0m\n",
            "\u001b[?25hCollecting python-multipart>=0.0.5 (from fastapi[all])\n",
            "  Downloading python_multipart-0.0.6-py3-none-any.whl (45 kB)\n",
            "\u001b[2K     \u001b[90m━━━━━━━━━━━━━━━━━━━━━━━━━━━━━━━━━━━━━━━━\u001b[0m \u001b[32m45.7/45.7 kB\u001b[0m \u001b[31m5.9 MB/s\u001b[0m eta \u001b[36m0:00:00\u001b[0m\n",
            "\u001b[?25hRequirement already satisfied: pyyaml>=5.3.1 in /usr/local/lib/python3.10/dist-packages (from fastapi[all]) (6.0)\n",
            "Collecting ujson!=4.0.2,!=4.1.0,!=4.2.0,!=4.3.0,!=5.0.0,!=5.1.0,>=4.0.1 (from fastapi[all])\n",
            "  Downloading ujson-5.7.0-cp310-cp310-manylinux_2_17_x86_64.manylinux2014_x86_64.whl (52 kB)\n",
            "\u001b[2K     \u001b[90m━━━━━━━━━━━━━━━━━━━━━━━━━━━━━━━━━━━━━━━━\u001b[0m \u001b[32m52.8/52.8 kB\u001b[0m \u001b[31m7.0 MB/s\u001b[0m eta \u001b[36m0:00:00\u001b[0m\n",
            "\u001b[?25hRequirement already satisfied: uvicorn[standard]>=0.12.0 in /usr/local/lib/python3.10/dist-packages (from fastapi[all]) (0.13.1)\n",
            "Collecting dnspython>=2.0.0 (from email-validator>=1.1.1->fastapi[all])\n",
            "  Downloading dnspython-2.3.0-py3-none-any.whl (283 kB)\n",
            "\u001b[2K     \u001b[90m━━━━━━━━━━━━━━━━━━━━━━━━━━━━━━━━━━━━━━━\u001b[0m \u001b[32m283.7/283.7 kB\u001b[0m \u001b[31m1.2 MB/s\u001b[0m eta \u001b[36m0:00:00\u001b[0m\n",
            "\u001b[?25hRequirement already satisfied: idna>=2.0.0 in /usr/local/lib/python3.10/dist-packages (from email-validator>=1.1.1->fastapi[all]) (3.4)\n",
            "Requirement already satisfied: certifi in /usr/local/lib/python3.10/dist-packages (from httpx>=0.23.0->fastapi[all]) (2022.12.7)\n",
            "Collecting httpcore<0.18.0,>=0.15.0 (from httpx>=0.23.0->fastapi[all])\n",
            "  Downloading httpcore-0.17.0-py3-none-any.whl (70 kB)\n",
            "\u001b[2K     \u001b[90m━━━━━━━━━━━━━━━━━━━━━━━━━━━━━━━━━━━━━━━━\u001b[0m \u001b[32m70.6/70.6 kB\u001b[0m \u001b[31m5.9 MB/s\u001b[0m eta \u001b[36m0:00:00\u001b[0m\n",
            "\u001b[?25hRequirement already satisfied: sniffio in /usr/local/lib/python3.10/dist-packages (from httpx>=0.23.0->fastapi[all]) (1.3.0)\n",
            "Requirement already satisfied: MarkupSafe>=2.0 in /usr/local/lib/python3.10/dist-packages (from jinja2>=2.11.2->fastapi[all]) (2.1.2)\n",
            "Requirement already satisfied: typing-extensions>=4.2.0 in /usr/local/lib/python3.10/dist-packages (from pydantic!=1.7,!=1.7.1,!=1.7.2,!=1.7.3,!=1.8,!=1.8.1,<2.0.0,>=1.6.2->fastapi[all]) (4.5.0)\n",
            "Requirement already satisfied: anyio<5,>=3.4.0 in /usr/local/lib/python3.10/dist-packages (from starlette<0.27.0,>=0.26.1->fastapi[all]) (3.6.2)\n",
            "Requirement already satisfied: click==7.* in /usr/local/lib/python3.10/dist-packages (from uvicorn[standard]>=0.12.0->fastapi[all]) (7.1.2)\n",
            "Requirement already satisfied: h11>=0.8 in /usr/local/lib/python3.10/dist-packages (from uvicorn[standard]>=0.12.0->fastapi[all]) (0.14.0)\n",
            "Collecting websockets==8.* (from uvicorn[standard]>=0.12.0->fastapi[all])\n",
            "  Downloading websockets-8.1.tar.gz (58 kB)\n",
            "\u001b[2K     \u001b[90m━━━━━━━━━━━━━━━━━━━━━━━━━━━━━━━━━━━━━━━━\u001b[0m \u001b[32m58.9/58.9 kB\u001b[0m \u001b[31m5.3 MB/s\u001b[0m eta \u001b[36m0:00:00\u001b[0m\n",
            "\u001b[?25h  Preparing metadata (setup.py) ... \u001b[?25l\u001b[?25hdone\n",
            "Collecting watchgod<0.7,>=0.6 (from uvicorn[standard]>=0.12.0->fastapi[all])\n",
            "  Downloading watchgod-0.6-py35.py36.py37-none-any.whl (10 kB)\n",
            "Collecting python-dotenv>=0.13.* (from uvicorn[standard]>=0.12.0->fastapi[all])\n",
            "  Downloading python_dotenv-1.0.0-py3-none-any.whl (19 kB)\n",
            "Collecting httptools==0.1.* (from uvicorn[standard]>=0.12.0->fastapi[all])\n",
            "  Downloading httptools-0.1.2.tar.gz (106 kB)\n",
            "\u001b[2K     \u001b[90m━━━━━━━━━━━━━━━━━━━━━━━━━━━━━━━━━━━━━━\u001b[0m \u001b[32m106.7/106.7 kB\u001b[0m \u001b[31m13.2 MB/s\u001b[0m eta \u001b[36m0:00:00\u001b[0m\n",
            "\u001b[?25h  Preparing metadata (setup.py) ... \u001b[?25l\u001b[?25hdone\n",
            "Collecting uvloop>=0.14.0 (from uvicorn[standard]>=0.12.0->fastapi[all])\n",
            "  Downloading uvloop-0.17.0-cp310-cp310-manylinux_2_17_x86_64.manylinux2014_x86_64.whl (4.1 MB)\n",
            "\u001b[2K     \u001b[90m━━━━━━━━━━━━━━━━━━━━━━━━━━━━━━━━━━━━━━━━\u001b[0m \u001b[32m4.1/4.1 MB\u001b[0m \u001b[31m75.5 MB/s\u001b[0m eta \u001b[36m0:00:00\u001b[0m\n",
            "\u001b[?25hBuilding wheels for collected packages: httptools, websockets\n",
            "  Building wheel for httptools (setup.py) ... \u001b[?25l\u001b[?25hdone\n",
            "  Created wheel for httptools: filename=httptools-0.1.2-cp310-cp310-linux_x86_64.whl size=285590 sha256=f566e5a8fdad27ae4f552db813fb4fd054e9ca6a8d7ad43ca5d84a72d4eda8e1\n",
            "  Stored in directory: /root/.cache/pip/wheels/98/11/f6/f3754aa351aaf36a0d4a5f76ad8628f8b90cbdef515ff7ec55\n",
            "  Building wheel for websockets (setup.py) ... \u001b[?25l\u001b[?25hdone\n",
            "  Created wheel for websockets: filename=websockets-8.1-cp310-cp310-linux_x86_64.whl size=78507 sha256=050bcb257abc8fa5e3e8e34e3579351823431dbbccad0fb54017248ce7ae92bf\n",
            "  Stored in directory: /root/.cache/pip/wheels/98/3f/c7/9993dad06631d258fb8a01677090029dbdbd884a6199c31483\n",
            "Successfully built httptools websockets\n",
            "Installing collected packages: httptools, websockets, watchgod, uvloop, ujson, python-multipart, python-dotenv, orjson, dnspython, starlette, httpcore, email-validator, httpx, fastapi\n",
            "Successfully installed dnspython-2.3.0 email-validator-2.0.0.post2 fastapi-0.95.1 httpcore-0.17.0 httptools-0.1.2 httpx-0.24.0 orjson-3.8.12 python-dotenv-1.0.0 python-multipart-0.0.6 starlette-0.26.1 ujson-5.7.0 uvloop-0.17.0 watchgod-0.6 websockets-8.1\n"
          ]
        }
      ],
      "source": [
        "!pip install fastapi[\"all\"]"
      ]
    },
    {
      "cell_type": "code",
      "execution_count": 16,
      "metadata": {
        "id": "LAcdUn_vLjaV"
      },
      "outputs": [],
      "source": [
        "#fastapi객체 생성 및 필요한 라이브러리 설치\n",
        "from fastapi import FastAPI, File, UploadFile\n",
        "from fastapi.responses import FileResponse, JSONResponse\n",
        "import os\n",
        "import time\n",
        "from PIL import Image\n",
        "import base64\n",
        "from io import BytesIO\n",
        "\n",
        "app = FastAPI()"
      ]
    },
    {
      "cell_type": "code",
      "execution_count": 18,
      "metadata": {
        "id": "PywjmLBcLjYQ"
      },
      "outputs": [],
      "source": [
        "\n",
        "#인풋으로 줄 폴더 디렉토리와 모델의 디렉토리의 경로를 저장\n",
        "CLOTH_DIR = \"inputs/cloth\"\n",
        "MODEL_DIR = \"inputs/img\"\n",
        "PREPROCESS_DIR = \"Data_preprocessing\"\n",
        "COLOR_DIR = f\"{PREPROCESS_DIR}/test_color\"\n",
        "IMG_DIR = f\"{PREPROCESS_DIR}/test_img\"\n",
        "EDGE_DIR = f\"{PREPROCESS_DIR}/test_edge\"\n",
        "LABEL_DIR = f\"{PREPROCESS_DIR}/test_label\"\n",
        "POSE_DIR = f\"{PREPROCESS_DIR}/test_pose\"\n",
        "MODEL_RESTORE_PATH = \"lip_final.pth\"\n",
        "\n",
        "#for test\n",
        "@app.get(\"/\")\n",
        "def home():\n",
        "  return 'hello this is model'\n",
        "\n",
        "#옷 데이터 넣어주기\n",
        "@app.post(\"/inputs/cloth\")\n",
        "async def upload_photo(file: UploadFile):\n",
        "\n",
        "    UPLOAD_DIR = \"./inputs/cloth\"  \n",
        "    \n",
        "    content = await file.read()\n",
        "    # 저장할 이미지 이름을 시간으로 변경\n",
        "    filename = f\"{int(time.time())}.png\"  \n",
        "    # 서버 로컬 스토리지에 이미지 저장 (쓰기)\n",
        "    with open(os.path.join(UPLOAD_DIR, filename), \"wb\") as fp:\n",
        "        fp.write(content)  \n",
        " \n",
        "    return {\"filename\": filename}\n",
        "\n",
        "\n",
        "#모델 데이터 넣어주기\n",
        "@app.post(\"/inputs/img\")\n",
        "async def upload_photo(file: UploadFile):\n",
        "\n",
        "    UPLOAD_DIR = \"./inputs/img\"  \n",
        "    \n",
        "    content = await file.read()\n",
        "    # 저장할 이미지 이름을 시간으로 변경\n",
        "    filename = f\"{int(time.time())}.png\"  \n",
        "    # 서버 로컬 스토리지에 이미지 저장 (쓰기)\n",
        "    with open(os.path.join(UPLOAD_DIR, filename), \"wb\") as fp:\n",
        "        fp.write(content)  \n",
        " \n",
        "    return {\"filename\": filename}\n",
        "\n",
        "#전처리 + 추론 과정을 모두 합쳐놓음 (u2net + humansegmentation + ACGPN + 결과값 반환)\n",
        "@app.get(\"/predictimage\")\n",
        "async def predict():\n",
        "\n",
        "    #옷 데이터셋이 올바른 위치에 있는지 확인\n",
        "    sorted_cloth_files = sorted(os.listdir('inputs/cloth'))\n",
        "    \n",
        "    #전처리 할 옷 데이터 이름을 시간으로 지정\n",
        "    cloth_name = f'cloth_{int(time.time())}.png'\n",
        "\n",
        "    #전처리 할 옷 데이터의 파일 위치 확인\n",
        "    cloth_path = os.path.join('inputs/cloth', sorted_cloth_files[0])\n",
        "\n",
        "    #이미지 할당\n",
        "    cloth = Image.open(cloth_path)\n",
        "\n",
        "    #이미지 사이즈 조절 및 RGB모드로 변환\n",
        "    cloth = cloth.resize((192, 256), Image.BICUBIC).convert('RGB')\n",
        "\n",
        "    #전처리를 위해 옷 이미지 파일을 해당 파일 위치에 지정해준 옷 데이터 이름으로 저장\n",
        "    cloth.save(os.path.join('Data_preprocessing/test_color', cloth_name))\n",
        "\n",
        "    #전처리를 위해 U-2-Net모델을 지정한 파일 위치에서 데이터셋을 가저와서 돌리고, 지정한 위치에 전처리 된 옷 이미지 파일을 저장\n",
        "    u2net_run.infer(u2net, 'Data_preprocessing/test_color', 'Data_preprocessing/test_edge')\n",
        "\n",
        "############ 옷 마스킹 처리 완료 ############\n",
        "\n",
        "    #모델 데이터셋이 올바른 위치에 있는지 확인\n",
        "    sorted_img_files = sorted(os.listdir('inputs/img'))\n",
        "\n",
        "    #전처리 할 모델 데이터 이름을 시간으로 지정\n",
        "    img_name = f'img_{int(time.time())}.png'\n",
        "\n",
        "    #전처리 할 모델 데이터의 파일 위치 확인\n",
        "    img_path = os.path.join('inputs/img', sorted(os.listdir('inputs/img'))[0])\n",
        "\n",
        "    #이미지 할당\n",
        "    img = Image.open(img_path)\n",
        "\n",
        "    #이미지 사이즈 조절\n",
        "    img = img.resize((192,256), Image.BICUBIC)\n",
        "    \n",
        "    #전처리를 위해 모델 이미지 파일의 위치값을 해당 파일 위치에 지정해준 모델 데이터 이름으로 지정\n",
        "    img_path = os.path.join('Data_preprocessing/test_img', img_name)\n",
        "\n",
        "    #지정해준 모델 이미지 파일의 위치값을 바탕으로 이미지 저장\n",
        "    img.save(img_path)\n",
        "\n",
        "    #전처리를 위해 휴먼 세그멘테이션 모델을 parser를 이용하여 돌림 ***parser는 데이터셋의 종류, 사전학습 모델 파일의 위치, 전처리 할 모델 이미지 위치, 전처리 후 이미지 저장할 위치\n",
        "    !python3 Self-Correction-Human-Parsing-for-ACGPN/simple_extractor.py --dataset 'lip' --model-restore 'lip_final.pth' --input-dir 'Data_preprocessing/test_img' --output-dir 'Data_preprocessing/test_label'\n",
        "\n",
        "    #모델 포즈 예측 모델을 돌리고 저장할 파일 위치와 파일 이름 형식을 지정\n",
        "    pose_path = os.path.join('Data_preprocessing/test_pose', img_name.replace('.png', '_keypoints.json'))\n",
        "\n",
        "    #모델 포즈 예측 모델을 전처리 할 모델 이미지 위치, 전처리 후 파일 위치를 받아서 돌리고 저장\n",
        "    generate_pose_keypoints(img_path, pose_path)\n",
        "\n",
        "############ 모델 세그멘테이션 및 마스크 추출 완료 ############\n",
        "\n",
        "    #기존에 존재하던 test_pairs.txt파일을 삭제 후 이번에 돌릴 이미지 이름들로 고쳐서 생성 *** 기존 test_pairs.txt파일에는 input으로 넣어준 옷 이미지 모델 이름과, 모델 이미지 이름이 존재\n",
        "    os.remove('Data_preprocessing/test_pairs.txt')\n",
        "    with open('Data_preprocessing/test_pairs.txt', 'w') as f:\n",
        "          f.write(f'{img_name} {cloth_name}')\n",
        "\n",
        "    #ACGPN 추론 실행\n",
        "    !python3 test.py\n",
        "\n",
        "    #상대위치 안돼서 위치 확인용..\n",
        "    !pwd\n",
        "\n",
        "    #결과물은 생성됐는데 경로문제로 못찾아서 절대경로로 변경\n",
        "    #result_path = os.path.join(\"content\", \"ACGPN\", \"results\", \"test\", \"try-on\", f\"{img_name}\")\n",
        "\n",
        "    #상대경로로 다시..\n",
        "    result_path = os.path.join(\"results\", \"test\", \"try-on\", f\"{img_name}\")\n",
        "    \n",
        "    #이미지 할당\n",
        "    result_image = Image.open(result_path)\n",
        "\n",
        "    buffered = BytesIO()\n",
        "    result_image.save(buffered, format=\"PNG\")\n",
        "    base64_image = base64.b64encode(buffered.getvalue()).decode('utf-8')\n",
        "\n",
        "\n",
        "    #이미지객체를 json형식으로 반환\n",
        "    return {\"image_data\": base64_image}\n"
      ]
    },
    {
      "cell_type": "code",
      "execution_count": 19,
      "metadata": {
        "id": "kfDj8zilLjVq"
      },
      "outputs": [],
      "source": [
        "from colabcode import ColabCode\n",
        "cc = ColabCode(port = 12000, code = False)"
      ]
    },
    {
      "cell_type": "code",
      "execution_count": 20,
      "metadata": {
        "colab": {
          "base_uri": "https://localhost:8080/"
        },
        "id": "QazrfUmnLjTC",
        "outputId": "bceb1f05-bc06-43ab-8b4e-1c5264bc7409"
      },
      "outputs": [
        {
          "name": "stdout",
          "output_type": "stream",
          "text": []
        },
        {
          "name": "stderr",
          "output_type": "stream",
          "text": [
            "WARNING:pyngrok.process.ngrok:t=2023-05-15T19:38:36+0000 lvl=warn msg=\"ngrok config file found at legacy location, move to XDG location\" xdg_path=/root/.config/ngrok/ngrok.yml legacy_path=/root/.ngrok2/ngrok.yml\n",
            "INFO:     Started server process [1032]\n",
            "INFO:uvicorn.error:Started server process [1032]\n",
            "INFO:     Waiting for application startup.\n",
            "INFO:uvicorn.error:Waiting for application startup.\n",
            "INFO:     Application startup complete.\n",
            "INFO:uvicorn.error:Application startup complete.\n",
            "INFO:     Uvicorn running on http://127.0.0.1:12000 (Press CTRL+C to quit)\n",
            "INFO:uvicorn.error:Uvicorn running on http://127.0.0.1:12000 (Press CTRL+C to quit)\n"
          ]
        },
        {
          "name": "stdout",
          "output_type": "stream",
          "text": [
            "Public URL: NgrokTunnel: \"https://b4bc-34-126-76-38.ngrok.io\" -> \"http://localhost:12000\"\n",
            "INFO:     118.223.10.215:0 - \"POST /inputs/cloth HTTP/1.1\" 200 OK\n",
            "INFO:     118.223.10.215:0 - \"POST /inputs/img HTTP/1.1\" 200 OK\n",
            "Generating mask for: cloth_1684179540.png\n",
            "Saving output at Data_preprocessing/test_edge/cloth_1684179540.png\n",
            "100% 1/1 [00:00<00:00,  1.74it/s]\n",
            "File saved at Data_preprocessing/test_pose/img_1684179548_keypoints.json\n",
            "?\n",
            "------------ Options -------------\n",
            "aspect_ratio: 1.0\n",
            "batchSize: 1\n",
            "checkpoints_dir: ./checkpoints\n",
            "cluster_path: features_clustered_010.npy\n",
            "continue_train: False\n",
            "data_type: 32\n",
            "datapairs: test_pairs.txt\n",
            "dataroot: Data_preprocessing/\n",
            "display_winsize: 512\n",
            "engine: None\n",
            "export_onnx: None\n",
            "fineSize: 512\n",
            "gpu_ids: [0]\n",
            "how_many: 1000\n",
            "input_nc: 3\n",
            "isTrain: False\n",
            "label_nc: 20\n",
            "loadSize: 512\n",
            "max_dataset_size: inf\n",
            "model: pix2pixHD\n",
            "nThreads: 1\n",
            "n_blocks_global: 4\n",
            "n_blocks_local: 3\n",
            "n_downsample_global: 4\n",
            "n_local_enhancers: 1\n",
            "name: label2city\n",
            "netG: global\n",
            "ngf: 64\n",
            "niter_fix_global: 0\n",
            "no_flip: False\n",
            "norm: instance\n",
            "ntest: inf\n",
            "onnx: None\n",
            "output_nc: 3\n",
            "phase: test\n",
            "resize_or_crop: scale_width\n",
            "results_dir: ./results/\n",
            "serial_batches: True\n",
            "tf_log: False\n",
            "use_dropout: False\n",
            "use_encoded_image: False\n",
            "verbose: False\n",
            "which_epoch: latest\n",
            "-------------- End ----------------\n",
            "CustomDatasetDataLoader\n",
            "dataset [AlignedDataset] was created\n",
            "Data_preprocessing/test_label label\n",
            "Data_preprocessing/test_img img\n",
            "Data_preprocessing/test_edge edge\n",
            "Data_preprocessing/test_edge edge\n",
            "Data_preprocessing/test_mask mask\n",
            "Data_preprocessing/test_mask mask\n",
            "Data_preprocessing/test_colormask colormask\n",
            "Data_preprocessing/test_colormask colormask\n",
            "Data_preprocessing/test_color color\n",
            "Data_preprocessing/test_color color\n",
            "# Inference images = 1\n",
            "latest_net_U.pth\n",
            "latest_net_G1.pth\n",
            "latest_net_G2.pth\n",
            "latest_net_G.pth\n",
            "/content/ACGPN/test.py:90: DeprecationWarning: `np.float` is a deprecated alias for the builtin `float`. To silence this warning, use `float` by itself. Doing this will not modify any behavior and is safe. If you specifically wanted the numpy scalar type, use `np.float64` here.\n",
            "Deprecated in NumPy 1.20; for more details and guidance: https://numpy.org/devdocs/release/1.20.0-notes.html#deprecations\n",
            "  (data['label'].cpu().numpy() == 7).astype(np.float))\n",
            "/content/ACGPN/test.py:94: DeprecationWarning: `np.int` is a deprecated alias for the builtin `int`. To silence this warning, use `int` by itself. Doing this will not modify any behavior and is safe. When replacing `np.int`, you may wish to use e.g. `np.int64` or `np.int32` to specify the precision. If you wish to review your current use, check the release note link for additional information.\n",
            "Deprecated in NumPy 1.20; for more details and guidance: https://numpy.org/devdocs/release/1.20.0-notes.html#deprecations\n",
            "  (data['label'].cpu().numpy() == 4).astype(np.int))\n",
            "/content/ACGPN/test.py:96: DeprecationWarning: `np.int` is a deprecated alias for the builtin `int`. To silence this warning, use `int` by itself. Doing this will not modify any behavior and is safe. When replacing `np.int`, you may wish to use e.g. `np.int64` or `np.int32` to specify the precision. If you wish to review your current use, check the release note link for additional information.\n",
            "Deprecated in NumPy 1.20; for more details and guidance: https://numpy.org/devdocs/release/1.20.0-notes.html#deprecations\n",
            "  (data['label'].cpu().numpy() > 0).astype(np.int))\n",
            "/content/ACGPN/test.py:65: DeprecationWarning: `np.int` is a deprecated alias for the builtin `int`. To silence this warning, use `int` by itself. Doing this will not modify any behavior and is safe. When replacing `np.int`, you may wish to use e.g. `np.int64` or `np.int32` to specify the precision. If you wish to review your current use, check the release note link for additional information.\n",
            "Deprecated in NumPy 1.20; for more details and guidance: https://numpy.org/devdocs/release/1.20.0-notes.html#deprecations\n",
            "  arm1 = torch.FloatTensor((old_label.cpu().numpy() == 11).astype(np.int))\n",
            "/content/ACGPN/test.py:66: DeprecationWarning: `np.int` is a deprecated alias for the builtin `int`. To silence this warning, use `int` by itself. Doing this will not modify any behavior and is safe. When replacing `np.int`, you may wish to use e.g. `np.int64` or `np.int32` to specify the precision. If you wish to review your current use, check the release note link for additional information.\n",
            "Deprecated in NumPy 1.20; for more details and guidance: https://numpy.org/devdocs/release/1.20.0-notes.html#deprecations\n",
            "  arm2 = torch.FloatTensor((old_label.cpu().numpy() == 13).astype(np.int))\n",
            "/content/ACGPN/test.py:67: DeprecationWarning: `np.int` is a deprecated alias for the builtin `int`. To silence this warning, use `int` by itself. Doing this will not modify any behavior and is safe. When replacing `np.int`, you may wish to use e.g. `np.int64` or `np.int32` to specify the precision. If you wish to review your current use, check the release note link for additional information.\n",
            "Deprecated in NumPy 1.20; for more details and guidance: https://numpy.org/devdocs/release/1.20.0-notes.html#deprecations\n",
            "  noise = torch.FloatTensor((old_label.cpu().numpy() == 7).astype(np.int))\n",
            "/usr/local/lib/python3.10/dist-packages/torch/nn/functional.py:4236: UserWarning: Default grid_sample and affine_grid behavior has changed to align_corners=False since 1.3.0. Please specify align_corners=True if the old behavior is desired. See the documentation of grid_sample for details.\n",
            "  warnings.warn(\n",
            "Saving img_1684179548.png\n",
            "/content/ACGPN\n",
            "INFO:     118.223.10.215:0 - \"GET /predictimage HTTP/1.1\" 200 OK\n"
          ]
        },
        {
          "name": "stderr",
          "output_type": "stream",
          "text": [
            "INFO:     Shutting down\n",
            "INFO:uvicorn.error:Shutting down\n",
            "INFO:     Waiting for application shutdown.\n",
            "INFO:uvicorn.error:Waiting for application shutdown.\n",
            "INFO:     Application shutdown complete.\n",
            "INFO:uvicorn.error:Application shutdown complete.\n",
            "INFO:     Finished server process [1032]\n",
            "INFO:uvicorn.error:Finished server process [1032]\n"
          ]
        }
      ],
      "source": [
        "cc.run_app(app=app)"
      ]
    },
    {
      "cell_type": "code",
      "execution_count": null,
      "metadata": {
        "id": "cs04XnFELjQe"
      },
      "outputs": [],
      "source": []
    }
  ],
  "metadata": {
    "accelerator": "GPU",
    "colab": {
      "provenance": []
    },
    "gpuClass": "standard",
    "kernelspec": {
      "display_name": "Python 3.8.15 64-bit ('dev')",
      "language": "python",
      "name": "python3"
    },
    "language_info": {
      "name": "python",
      "version": "3.8.15"
    },
    "vscode": {
      "interpreter": {
        "hash": "329e22198b68d8e60cd009d73b7185815e21aa24b6d9ff67db9978dd5b8ddb29"
      }
    }
  },
  "nbformat": 4,
  "nbformat_minor": 0
}
