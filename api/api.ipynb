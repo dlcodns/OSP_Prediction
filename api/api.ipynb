{
  "cells": [
    {
      "cell_type": "markdown",
      "metadata": {
        "id": "5wcgkZvbVrsn"
      },
      "source": [
        "# 모델에 필요한 파일 받기"
      ]
    },
    {
      "cell_type": "code",
      "execution_count": 22,
      "metadata": {
        "colab": {
          "base_uri": "https://localhost:8080/"
        },
        "id": "QVz3Nv8KVal2",
        "outputId": "b85528f3-81e2-4264-b999-e0a4e39bc8d8"
      },
      "outputs": [
        {
          "name": "stdout",
          "output_type": "stream",
          "text": [
            "/content/ACGPN\n"
          ]
        }
      ],
      "source": [
        "#현재 위치 확인\n",
        "!pwd"
      ]
    },
    {
      "cell_type": "code",
      "execution_count": 23,
      "metadata": {
        "colab": {
          "base_uri": "https://localhost:8080/"
        },
        "id": "d81mcKwgViSI",
        "outputId": "1900fa24-c8c0-4173-a27a-0ff58c86a22b"
      },
      "outputs": [
        {
          "name": "stdout",
          "output_type": "stream",
          "text": [
            "Cloning into 'ACGPN'...\n",
            "remote: Enumerating objects: 165, done.\u001b[K\n",
            "remote: Counting objects: 100% (24/24), done.\u001b[K\n",
            "remote: Compressing objects: 100% (6/6), done.\u001b[K\n",
            "remote: Total 165 (delta 21), reused 19 (delta 18), pack-reused 141\u001b[K\n",
            "Receiving objects: 100% (165/165), 303.15 KiB | 8.19 MiB/s, done.\n",
            "Resolving deltas: 100% (62/62), done.\n"
          ]
        }
      ],
      "source": [
        "#ACGPN 모델 파일 다운로드\n",
        "!git clone https://github.com/kairess/ACGPN.git"
      ]
    },
    {
      "cell_type": "code",
      "execution_count": 24,
      "metadata": {
        "colab": {
          "base_uri": "https://localhost:8080/"
        },
        "id": "pMpI-l40Vnc4",
        "outputId": "d94fd2b3-5b7d-4953-de9b-928b6ab7931e"
      },
      "outputs": [
        {
          "name": "stdout",
          "output_type": "stream",
          "text": [
            "/content/ACGPN/ACGPN\n"
          ]
        }
      ],
      "source": [
        "#다운로드 받은 파일의 위치로 이동\n",
        "%cd ACGPN"
      ]
    },
    {
      "cell_type": "markdown",
      "metadata": {
        "id": "0vSFPFitVzvK"
      },
      "source": [
        "# dependencies 및 사전 파일 준비"
      ]
    },
    {
      "cell_type": "code",
      "execution_count": 25,
      "metadata": {
        "id": "MNrXhTpKVyVb"
      },
      "outputs": [],
      "source": [
        "!pip install -U --no-cache-dir gdown --pre -qq\n",
        "!pip install ninja -qq"
      ]
    },
    {
      "cell_type": "code",
      "execution_count": 26,
      "metadata": {
        "id": "Z29mLLJ9V47A"
      },
      "outputs": [],
      "source": [
        "import gdown\n",
        "import numpy as np\n",
        "from PIL import Image\n",
        "import IPython\n",
        "import os\n",
        "import sys\n",
        "import time\n",
        "\n",
        "from predict_pose import generate_pose_keypoints"
      ]
    },
    {
      "cell_type": "code",
      "execution_count": 27,
      "metadata": {
        "id": "avsTo1jjV8n2"
      },
      "outputs": [],
      "source": [
        "#모델을 돌리기 위한 파일 준비\n",
        "!mkdir Data_preprocessing/test_color\n",
        "!mkdir Data_preprocessing/test_colormask\n",
        "!mkdir Data_preprocessing/test_edge\n",
        "!mkdir Data_preprocessing/test_img\n",
        "!mkdir Data_preprocessing/test_label\n",
        "!mkdir Data_preprocessing/test_mask\n",
        "!mkdir Data_preprocessing/test_pose\n",
        "!mkdir inputs\n",
        "!mkdir inputs/img\n",
        "!mkdir inputs/cloth"
      ]
    },
    {
      "cell_type": "code",
      "execution_count": 28,
      "metadata": {
        "colab": {
          "base_uri": "https://localhost:8080/"
        },
        "id": "JS2JlsWYV_rG",
        "outputId": "2ce4a681-f28a-4dd5-d8f6-d8b3dc8a14b8"
      },
      "outputs": [
        {
          "name": "stdout",
          "output_type": "stream",
          "text": [
            "/content/ACGPN/ACGPN\n"
          ]
        }
      ],
      "source": [
        "#현재 위치 확인\n",
        "!pwd"
      ]
    },
    {
      "cell_type": "code",
      "execution_count": 29,
      "metadata": {
        "colab": {
          "base_uri": "https://localhost:8080/"
        },
        "id": "49WwTnwiWCK7",
        "outputId": "f739d4b1-f30a-41ef-fbec-0a41dd16962b"
      },
      "outputs": [
        {
          "name": "stdout",
          "output_type": "stream",
          "text": [
            "Cloning into 'Self-Correction-Human-Parsing-for-ACGPN'...\n",
            "remote: Enumerating objects: 769, done.\u001b[K\n",
            "remote: Counting objects: 100% (111/111), done.\u001b[K\n",
            "remote: Compressing objects: 100% (49/49), done.\u001b[K\n",
            "remote: Total 769 (delta 72), reused 62 (delta 62), pack-reused 658\u001b[K\n",
            "Receiving objects: 100% (769/769), 3.80 MiB | 22.10 MiB/s, done.\n",
            "Resolving deltas: 100% (189/189), done.\n",
            "Cloning into 'U-2-Net'...\n",
            "remote: Enumerating objects: 822, done.\u001b[K\n",
            "remote: Total 822 (delta 0), reused 0 (delta 0), pack-reused 822\u001b[K\n",
            "Receiving objects: 100% (822/822), 30.72 MiB | 17.67 MiB/s, done.\n",
            "Resolving deltas: 100% (379/379), done.\n"
          ]
        }
      ],
      "source": [
        "#휴먼 세그멘테이션 모델 파일 다운로드\n",
        "!git clone https://github.com/levindabhi/Self-Correction-Human-Parsing-for-ACGPN.git\n",
        "#옷 마스킹 모델 파일 다운로드\n",
        "!git clone https://github.com/levindabhi/U-2-Net.git"
      ]
    },
    {
      "cell_type": "markdown",
      "metadata": {
        "id": "xuAjjwc-WEpM"
      },
      "source": [
        "# 사전학습된 모델 다운로드"
      ]
    },
    {
      "cell_type": "markdown",
      "metadata": {
        "id": "zWLZLYkbWMAz"
      },
      "source": [
        "# 포즈 예측 모델"
      ]
    },
    {
      "cell_type": "code",
      "execution_count": 30,
      "metadata": {
        "colab": {
          "base_uri": "https://localhost:8080/"
        },
        "id": "Fhz9rATaWDf5",
        "outputId": "b7172594-777e-4aad-ad55-a5c006acf6b7"
      },
      "outputs": [
        {
          "name": "stdout",
          "output_type": "stream",
          "text": [
            "Downloading...\n",
            "From (uriginal): https://drive.google.com/uc?id=1hOHMFHEjhoJuLEQY0Ndurn5hfiA9mwko\n",
            "From (redirected): https://drive.google.com/uc?id=1hOHMFHEjhoJuLEQY0Ndurn5hfiA9mwko&confirm=t&uuid=82c436e2-c256-4565-884b-fa4d13b9ee6e\n",
            "To: /content/ACGPN/ACGPN/pose/pose_iter_440000.caffemodel\n",
            "100% 209M/209M [00:00<00:00, 214MB/s]\n"
          ]
        }
      ],
      "source": [
        "!gdown 1hOHMFHEjhoJuLEQY0Ndurn5hfiA9mwko -O pose/pose_iter_440000.caffemodel"
      ]
    },
    {
      "cell_type": "markdown",
      "metadata": {
        "id": "IRAhOeIUWOk4"
      },
      "source": [
        "# 휴먼 세그멘테이션 모델"
      ]
    },
    {
      "cell_type": "code",
      "execution_count": 31,
      "metadata": {
        "colab": {
          "base_uri": "https://localhost:8080/",
          "height": 143
        },
        "id": "hWO0zRmiWJk1",
        "outputId": "89716d7f-3bf2-46ee-9e93-aecf9c9777de"
      },
      "outputs": [
        {
          "name": "stderr",
          "output_type": "stream",
          "text": [
            "Downloading...\n",
            "From (uriginal): https://drive.google.com/uc?id=1k4dllHpu0bdx38J7H28rVVLpU-kOHmnH\n",
            "From (redirected): https://drive.google.com/uc?id=1k4dllHpu0bdx38J7H28rVVLpU-kOHmnH&confirm=t&uuid=2748db6c-ddaf-45cb-aec9-51eeb741c171\n",
            "To: /content/ACGPN/ACGPN/lip_final.pth\n",
            "100%|██████████| 267M/267M [00:01<00:00, 168MB/s]\n"
          ]
        },
        {
          "data": {
            "application/vnd.google.colaboratory.intrinsic+json": {
              "type": "string"
            },
            "text/plain": [
              "'lip_final.pth'"
            ]
          },
          "execution_count": 31,
          "metadata": {},
          "output_type": "execute_result"
        }
      ],
      "source": [
        "gdown.download('https://drive.google.com/uc?id=1k4dllHpu0bdx38J7H28rVVLpU-kOHmnH', 'lip_final.pth', quiet=False)"
      ]
    },
    {
      "cell_type": "markdown",
      "metadata": {
        "id": "F2pn8E-SWQQK"
      },
      "source": [
        "# U-2-Net 모델 (옷 마스크 추출 모델)"
      ]
    },
    {
      "cell_type": "code",
      "execution_count": 32,
      "metadata": {
        "colab": {
          "base_uri": "https://localhost:8080/"
        },
        "id": "ncrkOSPOWLew",
        "outputId": "e03ce0e9-6c4f-4179-863c-d4059cb7baf3"
      },
      "outputs": [
        {
          "name": "stdout",
          "output_type": "stream",
          "text": [
            "/content/ACGPN/ACGPN/U-2-Net\n",
            "mkdir: cannot create directory ‘saved_models’: File exists\n",
            "Downloading...\n",
            "From: https://drive.google.com/uc?id=1rbSTGKAE-MTxBYHd-51l2hMOQPT_7EPy\n",
            "To: /content/ACGPN/ACGPN/U-2-Net/saved_models/u2netp/u2netp.pth\n",
            "100% 4.68M/4.68M [00:00<00:00, 35.2MB/s]\n",
            "Downloading...\n",
            "From (uriginal): https://drive.google.com/uc?id=1ao1ovG1Qtx4b7EoskHXmi2E9rp5CHLcZ\n",
            "From (redirected): https://drive.google.com/uc?id=1ao1ovG1Qtx4b7EoskHXmi2E9rp5CHLcZ&confirm=t&uuid=eedc4587-1a6e-457f-89c9-9be3f18f7ccb\n",
            "To: /content/ACGPN/ACGPN/U-2-Net/saved_models/u2net/u2net.pth\n",
            "100% 176M/176M [00:00<00:00, 203MB/s]\n",
            "...load U2NEP---4.7 MB\n",
            "/content/ACGPN/ACGPN\n"
          ]
        }
      ],
      "source": [
        "#U-2-Net 모델을 돌릴 때 필요한 파일 준비를 위해 해당 모델 파일로 이동\n",
        "%cd U-2-Net\n",
        "\n",
        "#U-2-Net 모델에 필요한 파일 생성\n",
        "!mkdir saved_models\n",
        "!mkdir saved_models/u2net\n",
        "!mkdir saved_models/u2netp\n",
        "\n",
        "#사전 학습된 U-2-Net 모델 다운로드\n",
        "!gdown 1rbSTGKAE-MTxBYHd-51l2hMOQPT_7EPy -O saved_models/u2netp/u2netp.pth\n",
        "!gdown 1ao1ovG1Qtx4b7EoskHXmi2E9rp5CHLcZ -O saved_models/u2net/u2net.pth\n",
        "\n",
        "import u2net_load\n",
        "import u2net_run\n",
        "\n",
        "#로드하려면 쿠다 필요 (위치 확인용)\n",
        "u2net = u2net_load.model(model_name='u2netp')\n",
        "\n",
        "#U-2-Net 모델을 위한 파일 준비가 끝나면 부모 파일로 이동\n",
        "%cd .."
      ]
    },
    {
      "cell_type": "markdown",
      "metadata": {
        "id": "h2lFpdZEWgV2"
      },
      "source": [
        "# ACGPN모델 (사진 합성 모델)"
      ]
    },
    {
      "cell_type": "code",
      "execution_count": 33,
      "metadata": {
        "colab": {
          "base_uri": "https://localhost:8080/"
        },
        "id": "msZwaCghWavD",
        "outputId": "e3c99e5a-ff24-4d02-f262-f78b57f25086"
      },
      "outputs": [
        {
          "name": "stderr",
          "output_type": "stream",
          "text": [
            "Downloading...\n",
            "From (uriginal): https://drive.google.com/uc?id=1UWT6esQIU_d4tUm8cjxDKMhB8joQbrFx\n",
            "From (redirected): https://drive.google.com/uc?id=1UWT6esQIU_d4tUm8cjxDKMhB8joQbrFx&confirm=t&uuid=a667dde4-0405-487c-9804-59c19a8110f9\n",
            "To: /content/ACGPN/ACGPN/checkpoints/ACGPN_checkpoints.zip\n",
            "100%|██████████| 524M/524M [00:01<00:00, 262MB/s]\n"
          ]
        },
        {
          "name": "stdout",
          "output_type": "stream",
          "text": [
            "Archive:  checkpoints/ACGPN_checkpoints.zip\n",
            "   creating: checkpoints/label2city/\n",
            "  inflating: checkpoints/label2city/latest_net_G.pth  \n",
            "  inflating: checkpoints/label2city/latest_net_G1.pth  \n",
            "  inflating: checkpoints/label2city/latest_net_G2.pth  \n",
            "  inflating: checkpoints/label2city/latest_net_U.pth  \n",
            "  inflating: checkpoints/label2city/opt.txt  \n"
          ]
        }
      ],
      "source": [
        "#ACGPN 모델에 필요한 파일 생성\n",
        "!mkdir checkpoints\n",
        "\n",
        "#사전 학습된 ACGPN 모델 다운로드\n",
        "gdown.download('https://drive.google.com/uc?id=1UWT6esQIU_d4tUm8cjxDKMhB8joQbrFx', output='checkpoints/ACGPN_checkpoints.zip', quiet=False)\n",
        "\n",
        "#압축된 모델 파일 풀어서 전에 만든 파일위치에 넣어줌\n",
        "!unzip checkpoints/ACGPN_checkpoints.zip -d checkpoints"
      ]
    },
    {
      "cell_type": "markdown",
      "metadata": {
        "id": "iG9e2-LrWnbw"
      },
      "source": [
        "# 가설 1: 전처리부터 추론까지의 코드는 api안에 넣어준다."
      ]
    },
    {
      "cell_type": "code",
      "execution_count": 34,
      "metadata": {
        "colab": {
          "base_uri": "https://localhost:8080/"
        },
        "id": "-uh0dtyCIdZ5",
        "outputId": "8ce50fef-78b4-4e32-ebfd-edcbfebf1963"
      },
      "outputs": [
        {
          "name": "stdout",
          "output_type": "stream",
          "text": [
            "/content/ACGPN/ACGPN\n"
          ]
        }
      ],
      "source": [
        "!pwd"
      ]
    },
    {
      "cell_type": "code",
      "execution_count": 35,
      "metadata": {
        "colab": {
          "base_uri": "https://localhost:8080/"
        },
        "id": "AEP8BPcJI11r",
        "outputId": "9a61a1ba-5d47-4d6c-855e-27ec5600f97b"
      },
      "outputs": [
        {
          "name": "stdout",
          "output_type": "stream",
          "text": [
            "Looking in indexes: https://pypi.org/simple, https://us-python.pkg.dev/colab-wheels/public/simple/\n",
            "Requirement already satisfied: colabcode in /usr/local/lib/python3.9/dist-packages (0.3.0)\n",
            "Requirement already satisfied: jupyterlab==3.0.7 in /usr/local/lib/python3.9/dist-packages (from colabcode) (3.0.7)\n",
            "Requirement already satisfied: pyngrok>=5.0.0 in /usr/local/lib/python3.9/dist-packages (from colabcode) (6.0.0)\n",
            "Requirement already satisfied: uvicorn==0.13.1 in /usr/local/lib/python3.9/dist-packages (from colabcode) (0.13.1)\n",
            "Requirement already satisfied: nest-asyncio==1.4.3 in /usr/local/lib/python3.9/dist-packages (from colabcode) (1.4.3)\n",
            "Requirement already satisfied: ipython in /usr/local/lib/python3.9/dist-packages (from jupyterlab==3.0.7->colabcode) (7.34.0)\n",
            "Requirement already satisfied: jupyter-server~=1.2 in /usr/local/lib/python3.9/dist-packages (from jupyterlab==3.0.7->colabcode) (1.23.6)\n",
            "Requirement already satisfied: jupyterlab-server~=2.0 in /usr/local/lib/python3.9/dist-packages (from jupyterlab==3.0.7->colabcode) (2.22.1)\n",
            "Requirement already satisfied: jupyter-core in /usr/local/lib/python3.9/dist-packages (from jupyterlab==3.0.7->colabcode) (5.3.0)\n",
            "Requirement already satisfied: packaging in /usr/local/lib/python3.9/dist-packages (from jupyterlab==3.0.7->colabcode) (23.0)\n",
            "Requirement already satisfied: tornado>=6.1.0 in /usr/local/lib/python3.9/dist-packages (from jupyterlab==3.0.7->colabcode) (6.2)\n",
            "Requirement already satisfied: nbclassic~=0.2 in /usr/local/lib/python3.9/dist-packages (from jupyterlab==3.0.7->colabcode) (0.3.7)\n",
            "Requirement already satisfied: jinja2>=2.10 in /usr/local/lib/python3.9/dist-packages (from jupyterlab==3.0.7->colabcode) (3.1.2)\n",
            "Requirement already satisfied: click==7.* in /usr/local/lib/python3.9/dist-packages (from uvicorn==0.13.1->colabcode) (7.1.2)\n",
            "Requirement already satisfied: h11>=0.8 in /usr/local/lib/python3.9/dist-packages (from uvicorn==0.13.1->colabcode) (0.14.0)\n",
            "Requirement already satisfied: PyYAML in /usr/local/lib/python3.9/dist-packages (from pyngrok>=5.0.0->colabcode) (6.0)\n",
            "Requirement already satisfied: MarkupSafe>=2.0 in /usr/local/lib/python3.9/dist-packages (from jinja2>=2.10->jupyterlab==3.0.7->colabcode) (2.1.2)\n",
            "Requirement already satisfied: terminado>=0.8.3 in /usr/local/lib/python3.9/dist-packages (from jupyter-server~=1.2->jupyterlab==3.0.7->colabcode) (0.17.1)\n",
            "Requirement already satisfied: nbconvert>=6.4.4 in /usr/local/lib/python3.9/dist-packages (from jupyter-server~=1.2->jupyterlab==3.0.7->colabcode) (6.5.4)\n",
            "Requirement already satisfied: pyzmq>=17 in /usr/local/lib/python3.9/dist-packages (from jupyter-server~=1.2->jupyterlab==3.0.7->colabcode) (23.2.1)\n",
            "Requirement already satisfied: anyio<4,>=3.1.0 in /usr/local/lib/python3.9/dist-packages (from jupyter-server~=1.2->jupyterlab==3.0.7->colabcode) (3.6.2)\n",
            "Requirement already satisfied: websocket-client in /usr/local/lib/python3.9/dist-packages (from jupyter-server~=1.2->jupyterlab==3.0.7->colabcode) (1.5.1)\n",
            "Requirement already satisfied: traitlets>=5.1 in /usr/local/lib/python3.9/dist-packages (from jupyter-server~=1.2->jupyterlab==3.0.7->colabcode) (5.7.1)\n",
            "Requirement already satisfied: prometheus-client in /usr/local/lib/python3.9/dist-packages (from jupyter-server~=1.2->jupyterlab==3.0.7->colabcode) (0.16.0)\n",
            "Requirement already satisfied: Send2Trash in /usr/local/lib/python3.9/dist-packages (from jupyter-server~=1.2->jupyterlab==3.0.7->colabcode) (1.8.0)\n",
            "Requirement already satisfied: nbformat>=5.2.0 in /usr/local/lib/python3.9/dist-packages (from jupyter-server~=1.2->jupyterlab==3.0.7->colabcode) (5.8.0)\n",
            "Requirement already satisfied: jupyter-client>=6.1.12 in /usr/local/lib/python3.9/dist-packages (from jupyter-server~=1.2->jupyterlab==3.0.7->colabcode) (6.1.12)\n",
            "Requirement already satisfied: argon2-cffi in /usr/local/lib/python3.9/dist-packages (from jupyter-server~=1.2->jupyterlab==3.0.7->colabcode) (21.3.0)\n",
            "Requirement already satisfied: platformdirs>=2.5 in /usr/local/lib/python3.9/dist-packages (from jupyter-core->jupyterlab==3.0.7->colabcode) (3.2.0)\n",
            "Requirement already satisfied: json5>=0.9.0 in /usr/local/lib/python3.9/dist-packages (from jupyterlab-server~=2.0->jupyterlab==3.0.7->colabcode) (0.9.11)\n",
            "Requirement already satisfied: jsonschema>=4.17.3 in /usr/local/lib/python3.9/dist-packages (from jupyterlab-server~=2.0->jupyterlab==3.0.7->colabcode) (4.17.3)\n",
            "Requirement already satisfied: importlib-metadata>=4.8.3 in /usr/local/lib/python3.9/dist-packages (from jupyterlab-server~=2.0->jupyterlab==3.0.7->colabcode) (6.3.0)\n",
            "Requirement already satisfied: babel>=2.10 in /usr/local/lib/python3.9/dist-packages (from jupyterlab-server~=2.0->jupyterlab==3.0.7->colabcode) (2.12.1)\n",
            "Requirement already satisfied: requests>=2.28 in /usr/local/lib/python3.9/dist-packages (from jupyterlab-server~=2.0->jupyterlab==3.0.7->colabcode) (2.28.2)\n",
            "Requirement already satisfied: notebook<7 in /usr/local/lib/python3.9/dist-packages (from nbclassic~=0.2->jupyterlab==3.0.7->colabcode) (6.4.5)\n",
            "Requirement already satisfied: notebook-shim>=0.1.0 in /usr/local/lib/python3.9/dist-packages (from nbclassic~=0.2->jupyterlab==3.0.7->colabcode) (0.2.2)\n",
            "Requirement already satisfied: setuptools>=18.5 in /usr/local/lib/python3.9/dist-packages (from ipython->jupyterlab==3.0.7->colabcode) (67.6.1)\n",
            "Requirement already satisfied: matplotlib-inline in /usr/local/lib/python3.9/dist-packages (from ipython->jupyterlab==3.0.7->colabcode) (0.1.6)\n",
            "Requirement already satisfied: pexpect>4.3 in /usr/local/lib/python3.9/dist-packages (from ipython->jupyterlab==3.0.7->colabcode) (4.8.0)\n",
            "Requirement already satisfied: pickleshare in /usr/local/lib/python3.9/dist-packages (from ipython->jupyterlab==3.0.7->colabcode) (0.7.5)\n",
            "Requirement already satisfied: pygments in /usr/local/lib/python3.9/dist-packages (from ipython->jupyterlab==3.0.7->colabcode) (2.14.0)\n",
            "Requirement already satisfied: decorator in /usr/local/lib/python3.9/dist-packages (from ipython->jupyterlab==3.0.7->colabcode) (4.4.2)\n",
            "Requirement already satisfied: jedi>=0.16 in /usr/local/lib/python3.9/dist-packages (from ipython->jupyterlab==3.0.7->colabcode) (0.18.2)\n",
            "Requirement already satisfied: prompt-toolkit!=3.0.0,!=3.0.1,<3.1.0,>=2.0.0 in /usr/local/lib/python3.9/dist-packages (from ipython->jupyterlab==3.0.7->colabcode) (3.0.38)\n",
            "Requirement already satisfied: backcall in /usr/local/lib/python3.9/dist-packages (from ipython->jupyterlab==3.0.7->colabcode) (0.2.0)\n",
            "Requirement already satisfied: idna>=2.8 in /usr/local/lib/python3.9/dist-packages (from anyio<4,>=3.1.0->jupyter-server~=1.2->jupyterlab==3.0.7->colabcode) (3.4)\n",
            "Requirement already satisfied: sniffio>=1.1 in /usr/local/lib/python3.9/dist-packages (from anyio<4,>=3.1.0->jupyter-server~=1.2->jupyterlab==3.0.7->colabcode) (1.3.0)\n",
            "Requirement already satisfied: zipp>=0.5 in /usr/local/lib/python3.9/dist-packages (from importlib-metadata>=4.8.3->jupyterlab-server~=2.0->jupyterlab==3.0.7->colabcode) (3.15.0)\n",
            "Requirement already satisfied: parso<0.9.0,>=0.8.0 in /usr/local/lib/python3.9/dist-packages (from jedi>=0.16->ipython->jupyterlab==3.0.7->colabcode) (0.8.3)\n",
            "Requirement already satisfied: pyrsistent!=0.17.0,!=0.17.1,!=0.17.2,>=0.14.0 in /usr/local/lib/python3.9/dist-packages (from jsonschema>=4.17.3->jupyterlab-server~=2.0->jupyterlab==3.0.7->colabcode) (0.19.3)\n",
            "Requirement already satisfied: attrs>=17.4.0 in /usr/local/lib/python3.9/dist-packages (from jsonschema>=4.17.3->jupyterlab-server~=2.0->jupyterlab==3.0.7->colabcode) (22.2.0)\n",
            "Requirement already satisfied: python-dateutil>=2.1 in /usr/local/lib/python3.9/dist-packages (from jupyter-client>=6.1.12->jupyter-server~=1.2->jupyterlab==3.0.7->colabcode) (2.8.2)\n",
            "Requirement already satisfied: bleach in /usr/local/lib/python3.9/dist-packages (from nbconvert>=6.4.4->jupyter-server~=1.2->jupyterlab==3.0.7->colabcode) (6.0.0)\n",
            "Requirement already satisfied: entrypoints>=0.2.2 in /usr/local/lib/python3.9/dist-packages (from nbconvert>=6.4.4->jupyter-server~=1.2->jupyterlab==3.0.7->colabcode) (0.4)\n",
            "Requirement already satisfied: defusedxml in /usr/local/lib/python3.9/dist-packages (from nbconvert>=6.4.4->jupyter-server~=1.2->jupyterlab==3.0.7->colabcode) (0.7.1)\n",
            "Requirement already satisfied: beautifulsoup4 in /usr/local/lib/python3.9/dist-packages (from nbconvert>=6.4.4->jupyter-server~=1.2->jupyterlab==3.0.7->colabcode) (4.11.2)\n",
            "Requirement already satisfied: mistune<2,>=0.8.1 in /usr/local/lib/python3.9/dist-packages (from nbconvert>=6.4.4->jupyter-server~=1.2->jupyterlab==3.0.7->colabcode) (0.8.4)\n",
            "Requirement already satisfied: pandocfilters>=1.4.1 in /usr/local/lib/python3.9/dist-packages (from nbconvert>=6.4.4->jupyter-server~=1.2->jupyterlab==3.0.7->colabcode) (1.5.0)\n",
            "Requirement already satisfied: lxml in /usr/local/lib/python3.9/dist-packages (from nbconvert>=6.4.4->jupyter-server~=1.2->jupyterlab==3.0.7->colabcode) (4.9.2)\n",
            "Requirement already satisfied: nbclient>=0.5.0 in /usr/local/lib/python3.9/dist-packages (from nbconvert>=6.4.4->jupyter-server~=1.2->jupyterlab==3.0.7->colabcode) (0.7.3)\n",
            "Requirement already satisfied: tinycss2 in /usr/local/lib/python3.9/dist-packages (from nbconvert>=6.4.4->jupyter-server~=1.2->jupyterlab==3.0.7->colabcode) (1.2.1)\n",
            "Requirement already satisfied: jupyterlab-pygments in /usr/local/lib/python3.9/dist-packages (from nbconvert>=6.4.4->jupyter-server~=1.2->jupyterlab==3.0.7->colabcode) (0.2.2)\n",
            "Requirement already satisfied: fastjsonschema in /usr/local/lib/python3.9/dist-packages (from nbformat>=5.2.0->jupyter-server~=1.2->jupyterlab==3.0.7->colabcode) (2.16.3)\n",
            "Requirement already satisfied: ipykernel in /usr/local/lib/python3.9/dist-packages (from notebook<7->nbclassic~=0.2->jupyterlab==3.0.7->colabcode) (5.5.6)\n",
            "Requirement already satisfied: ipython-genutils in /usr/local/lib/python3.9/dist-packages (from notebook<7->nbclassic~=0.2->jupyterlab==3.0.7->colabcode) (0.2.0)\n",
            "Requirement already satisfied: ptyprocess>=0.5 in /usr/local/lib/python3.9/dist-packages (from pexpect>4.3->ipython->jupyterlab==3.0.7->colabcode) (0.7.0)\n",
            "Requirement already satisfied: wcwidth in /usr/local/lib/python3.9/dist-packages (from prompt-toolkit!=3.0.0,!=3.0.1,<3.1.0,>=2.0.0->ipython->jupyterlab==3.0.7->colabcode) (0.2.6)\n",
            "Requirement already satisfied: charset-normalizer<4,>=2 in /usr/local/lib/python3.9/dist-packages (from requests>=2.28->jupyterlab-server~=2.0->jupyterlab==3.0.7->colabcode) (2.0.12)\n",
            "Requirement already satisfied: certifi>=2017.4.17 in /usr/local/lib/python3.9/dist-packages (from requests>=2.28->jupyterlab-server~=2.0->jupyterlab==3.0.7->colabcode) (2022.12.7)\n",
            "Requirement already satisfied: urllib3<1.27,>=1.21.1 in /usr/local/lib/python3.9/dist-packages (from requests>=2.28->jupyterlab-server~=2.0->jupyterlab==3.0.7->colabcode) (1.26.15)\n",
            "Requirement already satisfied: argon2-cffi-bindings in /usr/local/lib/python3.9/dist-packages (from argon2-cffi->jupyter-server~=1.2->jupyterlab==3.0.7->colabcode) (21.2.0)\n",
            "Requirement already satisfied: six>=1.5 in /usr/local/lib/python3.9/dist-packages (from python-dateutil>=2.1->jupyter-client>=6.1.12->jupyter-server~=1.2->jupyterlab==3.0.7->colabcode) (1.16.0)\n",
            "Requirement already satisfied: cffi>=1.0.1 in /usr/local/lib/python3.9/dist-packages (from argon2-cffi-bindings->argon2-cffi->jupyter-server~=1.2->jupyterlab==3.0.7->colabcode) (1.15.1)\n",
            "Requirement already satisfied: soupsieve>1.2 in /usr/local/lib/python3.9/dist-packages (from beautifulsoup4->nbconvert>=6.4.4->jupyter-server~=1.2->jupyterlab==3.0.7->colabcode) (2.4)\n",
            "Requirement already satisfied: webencodings in /usr/local/lib/python3.9/dist-packages (from bleach->nbconvert>=6.4.4->jupyter-server~=1.2->jupyterlab==3.0.7->colabcode) (0.5.1)\n",
            "Requirement already satisfied: pycparser in /usr/local/lib/python3.9/dist-packages (from cffi>=1.0.1->argon2-cffi-bindings->argon2-cffi->jupyter-server~=1.2->jupyterlab==3.0.7->colabcode) (2.21)\n"
          ]
        }
      ],
      "source": [
        "!pip install colabcode"
      ]
    },
    {
      "cell_type": "code",
      "execution_count": 36,
      "metadata": {
        "colab": {
          "base_uri": "https://localhost:8080/"
        },
        "id": "wlY2FHweWlUR",
        "outputId": "9ef6a80e-a328-44ef-d86a-3745d7194d92"
      },
      "outputs": [
        {
          "name": "stdout",
          "output_type": "stream",
          "text": [
            "Looking in indexes: https://pypi.org/simple, https://us-python.pkg.dev/colab-wheels/public/simple/\n",
            "Requirement already satisfied: fastapi[all] in /usr/local/lib/python3.9/dist-packages (0.95.1)\n",
            "Requirement already satisfied: starlette<0.27.0,>=0.26.1 in /usr/local/lib/python3.9/dist-packages (from fastapi[all]) (0.26.1)\n",
            "Requirement already satisfied: pydantic!=1.7,!=1.7.1,!=1.7.2,!=1.7.3,!=1.8,!=1.8.1,<2.0.0,>=1.6.2 in /usr/local/lib/python3.9/dist-packages (from fastapi[all]) (1.10.7)\n",
            "Requirement already satisfied: pyyaml>=5.3.1 in /usr/local/lib/python3.9/dist-packages (from fastapi[all]) (6.0)\n",
            "Requirement already satisfied: httpx>=0.23.0 in /usr/local/lib/python3.9/dist-packages (from fastapi[all]) (0.24.0)\n",
            "Requirement already satisfied: jinja2>=2.11.2 in /usr/local/lib/python3.9/dist-packages (from fastapi[all]) (3.1.2)\n",
            "Requirement already satisfied: ujson!=4.0.2,!=4.1.0,!=4.2.0,!=4.3.0,!=5.0.0,!=5.1.0,>=4.0.1 in /usr/local/lib/python3.9/dist-packages (from fastapi[all]) (5.7.0)\n",
            "Requirement already satisfied: python-multipart>=0.0.5 in /usr/local/lib/python3.9/dist-packages (from fastapi[all]) (0.0.6)\n",
            "Requirement already satisfied: itsdangerous>=1.1.0 in /usr/local/lib/python3.9/dist-packages (from fastapi[all]) (2.1.2)\n",
            "Requirement already satisfied: uvicorn[standard]>=0.12.0 in /usr/local/lib/python3.9/dist-packages (from fastapi[all]) (0.13.1)\n",
            "Requirement already satisfied: orjson>=3.2.1 in /usr/local/lib/python3.9/dist-packages (from fastapi[all]) (3.8.10)\n",
            "Requirement already satisfied: email-validator>=1.1.1 in /usr/local/lib/python3.9/dist-packages (from fastapi[all]) (2.0.0.post1)\n",
            "Requirement already satisfied: dnspython>=2.0.0 in /usr/local/lib/python3.9/dist-packages (from email-validator>=1.1.1->fastapi[all]) (2.3.0)\n",
            "Requirement already satisfied: idna>=2.0.0 in /usr/local/lib/python3.9/dist-packages (from email-validator>=1.1.1->fastapi[all]) (3.4)\n",
            "Requirement already satisfied: certifi in /usr/local/lib/python3.9/dist-packages (from httpx>=0.23.0->fastapi[all]) (2022.12.7)\n",
            "Requirement already satisfied: sniffio in /usr/local/lib/python3.9/dist-packages (from httpx>=0.23.0->fastapi[all]) (1.3.0)\n",
            "Requirement already satisfied: httpcore<0.18.0,>=0.15.0 in /usr/local/lib/python3.9/dist-packages (from httpx>=0.23.0->fastapi[all]) (0.17.0)\n",
            "Requirement already satisfied: MarkupSafe>=2.0 in /usr/local/lib/python3.9/dist-packages (from jinja2>=2.11.2->fastapi[all]) (2.1.2)\n",
            "Requirement already satisfied: typing-extensions>=4.2.0 in /usr/local/lib/python3.9/dist-packages (from pydantic!=1.7,!=1.7.1,!=1.7.2,!=1.7.3,!=1.8,!=1.8.1,<2.0.0,>=1.6.2->fastapi[all]) (4.5.0)\n",
            "Requirement already satisfied: anyio<5,>=3.4.0 in /usr/local/lib/python3.9/dist-packages (from starlette<0.27.0,>=0.26.1->fastapi[all]) (3.6.2)\n",
            "Requirement already satisfied: h11>=0.8 in /usr/local/lib/python3.9/dist-packages (from uvicorn[standard]>=0.12.0->fastapi[all]) (0.14.0)\n",
            "Requirement already satisfied: click==7.* in /usr/local/lib/python3.9/dist-packages (from uvicorn[standard]>=0.12.0->fastapi[all]) (7.1.2)\n",
            "Requirement already satisfied: uvloop>=0.14.0 in /usr/local/lib/python3.9/dist-packages (from uvicorn[standard]>=0.12.0->fastapi[all]) (0.17.0)\n",
            "Requirement already satisfied: httptools==0.1.* in /usr/local/lib/python3.9/dist-packages (from uvicorn[standard]>=0.12.0->fastapi[all]) (0.1.2)\n",
            "Requirement already satisfied: watchgod<0.7,>=0.6 in /usr/local/lib/python3.9/dist-packages (from uvicorn[standard]>=0.12.0->fastapi[all]) (0.6)\n",
            "Requirement already satisfied: python-dotenv>=0.13.* in /usr/local/lib/python3.9/dist-packages (from uvicorn[standard]>=0.12.0->fastapi[all]) (1.0.0)\n",
            "Requirement already satisfied: websockets==8.* in /usr/local/lib/python3.9/dist-packages (from uvicorn[standard]>=0.12.0->fastapi[all]) (8.1)\n"
          ]
        }
      ],
      "source": [
        "!pip install fastapi[\"all\"]"
      ]
    },
    {
      "cell_type": "code",
      "execution_count": 37,
      "metadata": {
        "id": "07e40XvcW5eO"
      },
      "outputs": [],
      "source": [
        "from fastapi import FastAPI, File, UploadFile\n",
        "from fastapi.responses import FileResponse, JSONResponse\n",
        "import os\n",
        "import time\n",
        "from PIL import Image\n",
        "\n",
        "\n",
        "app = FastAPI()"
      ]
    },
    {
      "cell_type": "code",
      "execution_count": 38,
      "metadata": {
        "id": "qVbbmAeUW_ZU"
      },
      "outputs": [],
      "source": [
        "\n",
        "CLOTH_DIR = \"inputs/cloth\"\n",
        "MODEL_DIR = \"inputs/img\"\n",
        "PREPROCESS_DIR = \"Data_preprocessing\"\n",
        "COLOR_DIR = f\"{PREPROCESS_DIR}/test_color\"\n",
        "IMG_DIR = f\"{PREPROCESS_DIR}/test_img\"\n",
        "EDGE_DIR = f\"{PREPROCESS_DIR}/test_edge\"\n",
        "LABEL_DIR = f\"{PREPROCESS_DIR}/test_label\"\n",
        "POSE_DIR = f\"{PREPROCESS_DIR}/test_pose\"\n",
        "MODEL_RESTORE_PATH = \"lip_final.pth\"\n",
        "\n",
        "#for test\n",
        "@app.get(\"/\")\n",
        "def home():\n",
        "  return 'hello this is model'\n",
        "\n",
        "#옷 데이터 넣어주기\n",
        "@app.post(\"/inputs/cloth\")\n",
        "async def upload_photo(file: UploadFile):\n",
        "\n",
        "    UPLOAD_DIR = \"./inputs/cloth\"  \n",
        "    \n",
        "    content = await file.read()\n",
        "    # 저장할 이미지 이름을 시간으로 변경\n",
        "    filename = f\"{int(time.time())}.png\"  \n",
        "    # 서버 로컬 스토리지에 이미지 저장 (쓰기)\n",
        "    with open(os.path.join(UPLOAD_DIR, filename), \"wb\") as fp:\n",
        "        fp.write(content)  \n",
        " \n",
        "    return {\"filename\": filename}\n",
        "\n",
        "#모델 데이터 넣어주기\n",
        "@app.post(\"/inputs/img\")\n",
        "async def upload_photo(file: UploadFile):\n",
        "\n",
        "    UPLOAD_DIR = \"./inputs/img\"  \n",
        "    \n",
        "    content = await file.read()\n",
        "    # 저장할 이미지 이름을 시간으로 변경\n",
        "    filename = f\"{int(time.time())}.png\"  \n",
        "    # 서버 로컬 스토리지에 이미지 저장 (쓰기)\n",
        "    with open(os.path.join(UPLOAD_DIR, filename), \"wb\") as fp:\n",
        "        fp.write(content)  \n",
        " \n",
        "    return {\"filename\": filename}\n",
        "\n",
        "################\n",
        "#옷, 모델 데이터 넣어주는 건 성공 모델은 안돌아감\n",
        "################\n",
        "\n",
        "@app.post(\"/preprocess_image/cloth\")\n",
        "async def preprocess_clothimage():\n",
        "    cloth_dir = 'inputs/cloth'\n",
        "    assert os.path.isdir(cloth_dir), f\"{cloth_dir} is not a directory.\"\n",
        "\n",
        "    cloth_name = f'cloth_{int(time.time())}.png'\n",
        "\n",
        "    cloth_path = os.path.join(cloth_dir, sorted(os.listdir(cloth_dir))[0])\n",
        "\n",
        "    cloth = Image.open(cloth_path)\n",
        "\n",
        "    cloth = cloth.resize((192, 256), Image.BICUBIC).convert('RGB')\n",
        "\n",
        "    preprocessed_dir = 'Data_preprocessing/test_edge'\n",
        "    os.makedirs(preprocessed_dir, exist_ok=True)\n",
        "    preprocessed_path = os.path.join(preprocessed_dir, cloth_name)\n",
        "    cloth.save(preprocessed_path)\n",
        "\n",
        "    u2net_run.infer(u2net, 'Data_preprocessing/test_color', preprocessed_dir)\n",
        "\n",
        "    return FileResponse(preprocessed_path)\n"
      ]
    },
    {
      "cell_type": "code",
      "execution_count": 39,
      "metadata": {
        "id": "LSfIGJXS9lC6"
      },
      "outputs": [],
      "source": [
        "#위에 적어놓음\n",
        "#from fastapi.responses import JSONResponse\n",
        "\n",
        "@app.post(\"/preprocess_image/img\")\n",
        "async def preprocess_modelimage():\n",
        "    img_dir = 'inputs/img'\n",
        "    assert os.path.isdir(img_dir), f\"{img_dir} is not a directory.\"\n",
        "\n",
        "    img_name = f'img_{int(time.time())}.png'\n",
        "\n",
        "    img_path = os.path.join(img_dir, sorted(os.listdir(img_dir))[0])\n",
        "\n",
        "    img = Image.open(img_path)\n",
        "\n",
        "    img = img.resize((192,256), Image.BICUBIC)\n",
        "\n",
        "    preprocessed_dir = 'Data_preprocessing/test_img'\n",
        "    os.makedirs(preprocessed_dir, exist_ok=True)\n",
        "    preprocessed_path = os.path.join(preprocessed_dir, img_name)\n",
        "    img.save(preprocessed_path)\n",
        "\n",
        "    seg_output_dir = 'Data_preprocessing/test_label'\n",
        "    os.makedirs(seg_output_dir, exist_ok=True)\n",
        "    seg_parser_args = f\"--dataset 'lip' --model-restore 'lip_final.pth' --input-dir '{preprocessed_dir}' --output-dir '{seg_output_dir}'\"\n",
        "    os.system(f\"python3 Self-Correction-Human-Parsing-for-ACGPN/simple_extractor.py {seg_parser_args}\")\n",
        "\n",
        "    pose_output_dir = 'Data_preprocessing/test_pose'\n",
        "    os.makedirs(pose_output_dir, exist_ok=True)\n",
        "    pose_path = os.path.join(pose_output_dir, img_name.replace('.png', '_keypoints.json'))\n",
        "    generate_pose_keypoints(preprocessed_path, pose_path)\n",
        "\n",
        "    seg_path = os.path.join(seg_output_dir, img_name)\n",
        "    pose_keypoints = load_pose_keypoints(pose_path)\n",
        "\n",
        "    combined_output_dir = 'Data_preprocessing/test_combine'\n",
        "    os.makedirs(combined_output_dir, exist_ok=True)\n",
        "    combine_images(seg_path, pose_keypoints, combined_output_dir)\n",
        "\n",
        "    combined_path = os.path.join(combined_output_dir, img_name)\n",
        "    with open(combined_path, mode='rb') as file:\n",
        "        return JSONResponse(content=file.read(), media_type=\"image/png\")\n"
      ]
    },
    {
      "cell_type": "code",
      "execution_count": 40,
      "metadata": {
        "id": "N1VG4WGP_F-S"
      },
      "outputs": [],
      "source": [
        "@app.post(\"/predict\")\n",
        "async def predict_image():\n",
        "     with open('Data_preprocessing/test_pairs.txt', 'w') as f:\n",
        "          f.write(f'{img_name} {cloth_name}')\n",
        "          os.system(f\"python3 test.py\")\n",
        "\n",
        "     result_path = os.path.join('test', 'final', f'{img_name.split(\".\")[0]}_final.png')\n",
        "     with open(result_path, \"rb\") as f:\n",
        "        result_image = f.read()\n",
        "\n",
        "        return result_image "
      ]
    },
    {
      "cell_type": "code",
      "execution_count": 41,
      "metadata": {
        "id": "IX9_Q8GUDGZx"
      },
      "outputs": [],
      "source": [
        "from colabcode import ColabCode\n",
        "cc = ColabCode(port = 12000, code = False)"
      ]
    },
    {
      "cell_type": "code",
      "execution_count": 42,
      "metadata": {
        "colab": {
          "base_uri": "https://localhost:8080/"
        },
        "id": "JvK_EZd_jCjA",
        "outputId": "dd9798f9-8bb6-4900-c03e-3fc4712f7326"
      },
      "outputs": [
        {
          "name": "stderr",
          "output_type": "stream",
          "text": [
            "WARNING:pyngrok.process.ngrok:t=2023-04-18T20:59:33+0000 lvl=warn msg=\"ngrok config file found at legacy location, move to XDG location\" xdg_path=/root/.config/ngrok/ngrok.yml legacy_path=/root/.ngrok2/ngrok.yml\n"
          ]
        },
        {
          "name": "stdout",
          "output_type": "stream",
          "text": [
            "Public URL: NgrokTunnel: \"https://f03d-34-87-135-59.ngrok.io\" -> \"http://localhost:12000\"\n"
          ]
        },
        {
          "name": "stderr",
          "output_type": "stream",
          "text": [
            "INFO:     Started server process [1762]\n",
            "INFO:uvicorn.error:Started server process [1762]\n",
            "INFO:     Waiting for application startup.\n",
            "INFO:uvicorn.error:Waiting for application startup.\n",
            "INFO:     Application startup complete.\n",
            "INFO:uvicorn.error:Application startup complete.\n",
            "INFO:     Uvicorn running on http://127.0.0.1:12000 (Press CTRL+C to quit)\n",
            "INFO:uvicorn.error:Uvicorn running on http://127.0.0.1:12000 (Press CTRL+C to quit)\n"
          ]
        },
        {
          "name": "stdout",
          "output_type": "stream",
          "text": [
            "INFO:     118.223.10.215:0 - \"POST /inputs/cloth HTTP/1.1\" 200 OK\n",
            "INFO:     118.223.10.215:0 - \"POST /inputs/img HTTP/1.1\" 200 OK\n",
            "INFO:     118.223.10.215:0 - \"POST /preprocess_image/cloth HTTP/1.1\" 200 OK\n",
            "File saved at Data_preprocessing/test_pose/img_1681851706_keypoints.json\n",
            "INFO:     118.223.10.215:0 - \"POST /preprocess_image/img HTTP/1.1\" 500 Internal Server Error\n"
          ]
        },
        {
          "name": "stderr",
          "output_type": "stream",
          "text": [
            "ERROR:    Exception in ASGI application\n",
            "Traceback (most recent call last):\n",
            "  File \"/usr/local/lib/python3.9/dist-packages/uvicorn/protocols/http/httptools_impl.py\", line 396, in run_asgi\n",
            "    result = await app(self.scope, self.receive, self.send)\n",
            "  File \"/usr/local/lib/python3.9/dist-packages/uvicorn/middleware/proxy_headers.py\", line 45, in __call__\n",
            "    return await self.app(scope, receive, send)\n",
            "  File \"/usr/local/lib/python3.9/dist-packages/fastapi/applications.py\", line 276, in __call__\n",
            "    await super().__call__(scope, receive, send)\n",
            "  File \"/usr/local/lib/python3.9/dist-packages/starlette/applications.py\", line 122, in __call__\n",
            "    await self.middleware_stack(scope, receive, send)\n",
            "  File \"/usr/local/lib/python3.9/dist-packages/starlette/middleware/errors.py\", line 184, in __call__\n",
            "    raise exc\n",
            "  File \"/usr/local/lib/python3.9/dist-packages/starlette/middleware/errors.py\", line 162, in __call__\n",
            "    await self.app(scope, receive, _send)\n",
            "  File \"/usr/local/lib/python3.9/dist-packages/starlette/middleware/exceptions.py\", line 79, in __call__\n",
            "    raise exc\n",
            "  File \"/usr/local/lib/python3.9/dist-packages/starlette/middleware/exceptions.py\", line 68, in __call__\n",
            "    await self.app(scope, receive, sender)\n",
            "  File \"/usr/local/lib/python3.9/dist-packages/fastapi/middleware/asyncexitstack.py\", line 21, in __call__\n",
            "    raise e\n",
            "  File \"/usr/local/lib/python3.9/dist-packages/fastapi/middleware/asyncexitstack.py\", line 18, in __call__\n",
            "    await self.app(scope, receive, send)\n",
            "  File \"/usr/local/lib/python3.9/dist-packages/starlette/routing.py\", line 718, in __call__\n",
            "    await route.handle(scope, receive, send)\n",
            "  File \"/usr/local/lib/python3.9/dist-packages/starlette/routing.py\", line 276, in handle\n",
            "    await self.app(scope, receive, send)\n",
            "  File \"/usr/local/lib/python3.9/dist-packages/starlette/routing.py\", line 66, in app\n",
            "    response = await func(request)\n",
            "  File \"/usr/local/lib/python3.9/dist-packages/fastapi/routing.py\", line 237, in app\n",
            "    raw_response = await run_endpoint_function(\n",
            "  File \"/usr/local/lib/python3.9/dist-packages/fastapi/routing.py\", line 163, in run_endpoint_function\n",
            "    return await dependant.call(**values)\n",
            "  File \"<ipython-input-39-44d6074ec543>\", line 45, in preprocess_modelimage\n",
            "    pose_keypoints = load_pose_keypoints(pose_path)\n",
            "NameError: name 'load_pose_keypoints' is not defined\n",
            "ERROR:uvicorn.error:Exception in ASGI application\n",
            "Traceback (most recent call last):\n",
            "  File \"/usr/local/lib/python3.9/dist-packages/uvicorn/protocols/http/httptools_impl.py\", line 396, in run_asgi\n",
            "    result = await app(self.scope, self.receive, self.send)\n",
            "  File \"/usr/local/lib/python3.9/dist-packages/uvicorn/middleware/proxy_headers.py\", line 45, in __call__\n",
            "    return await self.app(scope, receive, send)\n",
            "  File \"/usr/local/lib/python3.9/dist-packages/fastapi/applications.py\", line 276, in __call__\n",
            "    await super().__call__(scope, receive, send)\n",
            "  File \"/usr/local/lib/python3.9/dist-packages/starlette/applications.py\", line 122, in __call__\n",
            "    await self.middleware_stack(scope, receive, send)\n",
            "  File \"/usr/local/lib/python3.9/dist-packages/starlette/middleware/errors.py\", line 184, in __call__\n",
            "    raise exc\n",
            "  File \"/usr/local/lib/python3.9/dist-packages/starlette/middleware/errors.py\", line 162, in __call__\n",
            "    await self.app(scope, receive, _send)\n",
            "  File \"/usr/local/lib/python3.9/dist-packages/starlette/middleware/exceptions.py\", line 79, in __call__\n",
            "    raise exc\n",
            "  File \"/usr/local/lib/python3.9/dist-packages/starlette/middleware/exceptions.py\", line 68, in __call__\n",
            "    await self.app(scope, receive, sender)\n",
            "  File \"/usr/local/lib/python3.9/dist-packages/fastapi/middleware/asyncexitstack.py\", line 21, in __call__\n",
            "    raise e\n",
            "  File \"/usr/local/lib/python3.9/dist-packages/fastapi/middleware/asyncexitstack.py\", line 18, in __call__\n",
            "    await self.app(scope, receive, send)\n",
            "  File \"/usr/local/lib/python3.9/dist-packages/starlette/routing.py\", line 718, in __call__\n",
            "    await route.handle(scope, receive, send)\n",
            "  File \"/usr/local/lib/python3.9/dist-packages/starlette/routing.py\", line 276, in handle\n",
            "    await self.app(scope, receive, send)\n",
            "  File \"/usr/local/lib/python3.9/dist-packages/starlette/routing.py\", line 66, in app\n",
            "    response = await func(request)\n",
            "  File \"/usr/local/lib/python3.9/dist-packages/fastapi/routing.py\", line 237, in app\n",
            "    raw_response = await run_endpoint_function(\n",
            "  File \"/usr/local/lib/python3.9/dist-packages/fastapi/routing.py\", line 163, in run_endpoint_function\n",
            "    return await dependant.call(**values)\n",
            "  File \"<ipython-input-39-44d6074ec543>\", line 45, in preprocess_modelimage\n",
            "    pose_keypoints = load_pose_keypoints(pose_path)\n",
            "NameError: name 'load_pose_keypoints' is not defined\n"
          ]
        },
        {
          "name": "stdout",
          "output_type": "stream",
          "text": [
            "INFO:     118.223.10.215:0 - \"POST /predict HTTP/1.1\" 500 Internal Server Error\n"
          ]
        },
        {
          "name": "stderr",
          "output_type": "stream",
          "text": [
            "ERROR:    Exception in ASGI application\n",
            "Traceback (most recent call last):\n",
            "  File \"/usr/local/lib/python3.9/dist-packages/uvicorn/protocols/http/httptools_impl.py\", line 396, in run_asgi\n",
            "    result = await app(self.scope, self.receive, self.send)\n",
            "  File \"/usr/local/lib/python3.9/dist-packages/uvicorn/middleware/proxy_headers.py\", line 45, in __call__\n",
            "    return await self.app(scope, receive, send)\n",
            "  File \"/usr/local/lib/python3.9/dist-packages/fastapi/applications.py\", line 276, in __call__\n",
            "    await super().__call__(scope, receive, send)\n",
            "  File \"/usr/local/lib/python3.9/dist-packages/starlette/applications.py\", line 122, in __call__\n",
            "    await self.middleware_stack(scope, receive, send)\n",
            "  File \"/usr/local/lib/python3.9/dist-packages/starlette/middleware/errors.py\", line 184, in __call__\n",
            "    raise exc\n",
            "  File \"/usr/local/lib/python3.9/dist-packages/starlette/middleware/errors.py\", line 162, in __call__\n",
            "    await self.app(scope, receive, _send)\n",
            "  File \"/usr/local/lib/python3.9/dist-packages/starlette/middleware/exceptions.py\", line 79, in __call__\n",
            "    raise exc\n",
            "  File \"/usr/local/lib/python3.9/dist-packages/starlette/middleware/exceptions.py\", line 68, in __call__\n",
            "    await self.app(scope, receive, sender)\n",
            "  File \"/usr/local/lib/python3.9/dist-packages/fastapi/middleware/asyncexitstack.py\", line 21, in __call__\n",
            "    raise e\n",
            "  File \"/usr/local/lib/python3.9/dist-packages/fastapi/middleware/asyncexitstack.py\", line 18, in __call__\n",
            "    await self.app(scope, receive, send)\n",
            "  File \"/usr/local/lib/python3.9/dist-packages/starlette/routing.py\", line 718, in __call__\n",
            "    await route.handle(scope, receive, send)\n",
            "  File \"/usr/local/lib/python3.9/dist-packages/starlette/routing.py\", line 276, in handle\n",
            "    await self.app(scope, receive, send)\n",
            "  File \"/usr/local/lib/python3.9/dist-packages/starlette/routing.py\", line 66, in app\n",
            "    response = await func(request)\n",
            "  File \"/usr/local/lib/python3.9/dist-packages/fastapi/routing.py\", line 237, in app\n",
            "    raw_response = await run_endpoint_function(\n",
            "  File \"/usr/local/lib/python3.9/dist-packages/fastapi/routing.py\", line 163, in run_endpoint_function\n",
            "    return await dependant.call(**values)\n",
            "  File \"<ipython-input-40-55e2f16a87f6>\", line 4, in predict_image\n",
            "    f.write(f'{img_name} {cloth_name}')\n",
            "NameError: name 'img_name' is not defined\n",
            "ERROR:uvicorn.error:Exception in ASGI application\n",
            "Traceback (most recent call last):\n",
            "  File \"/usr/local/lib/python3.9/dist-packages/uvicorn/protocols/http/httptools_impl.py\", line 396, in run_asgi\n",
            "    result = await app(self.scope, self.receive, self.send)\n",
            "  File \"/usr/local/lib/python3.9/dist-packages/uvicorn/middleware/proxy_headers.py\", line 45, in __call__\n",
            "    return await self.app(scope, receive, send)\n",
            "  File \"/usr/local/lib/python3.9/dist-packages/fastapi/applications.py\", line 276, in __call__\n",
            "    await super().__call__(scope, receive, send)\n",
            "  File \"/usr/local/lib/python3.9/dist-packages/starlette/applications.py\", line 122, in __call__\n",
            "    await self.middleware_stack(scope, receive, send)\n",
            "  File \"/usr/local/lib/python3.9/dist-packages/starlette/middleware/errors.py\", line 184, in __call__\n",
            "    raise exc\n",
            "  File \"/usr/local/lib/python3.9/dist-packages/starlette/middleware/errors.py\", line 162, in __call__\n",
            "    await self.app(scope, receive, _send)\n",
            "  File \"/usr/local/lib/python3.9/dist-packages/starlette/middleware/exceptions.py\", line 79, in __call__\n",
            "    raise exc\n",
            "  File \"/usr/local/lib/python3.9/dist-packages/starlette/middleware/exceptions.py\", line 68, in __call__\n",
            "    await self.app(scope, receive, sender)\n",
            "  File \"/usr/local/lib/python3.9/dist-packages/fastapi/middleware/asyncexitstack.py\", line 21, in __call__\n",
            "    raise e\n",
            "  File \"/usr/local/lib/python3.9/dist-packages/fastapi/middleware/asyncexitstack.py\", line 18, in __call__\n",
            "    await self.app(scope, receive, send)\n",
            "  File \"/usr/local/lib/python3.9/dist-packages/starlette/routing.py\", line 718, in __call__\n",
            "    await route.handle(scope, receive, send)\n",
            "  File \"/usr/local/lib/python3.9/dist-packages/starlette/routing.py\", line 276, in handle\n",
            "    await self.app(scope, receive, send)\n",
            "  File \"/usr/local/lib/python3.9/dist-packages/starlette/routing.py\", line 66, in app\n",
            "    response = await func(request)\n",
            "  File \"/usr/local/lib/python3.9/dist-packages/fastapi/routing.py\", line 237, in app\n",
            "    raw_response = await run_endpoint_function(\n",
            "  File \"/usr/local/lib/python3.9/dist-packages/fastapi/routing.py\", line 163, in run_endpoint_function\n",
            "    return await dependant.call(**values)\n",
            "  File \"<ipython-input-40-55e2f16a87f6>\", line 4, in predict_image\n",
            "    f.write(f'{img_name} {cloth_name}')\n",
            "NameError: name 'img_name' is not defined\n",
            "INFO:     Shutting down\n",
            "INFO:uvicorn.error:Shutting down\n",
            "INFO:     Waiting for application shutdown.\n",
            "INFO:uvicorn.error:Waiting for application shutdown.\n",
            "INFO:     Application shutdown complete.\n",
            "INFO:uvicorn.error:Application shutdown complete.\n",
            "INFO:     Finished server process [1762]\n",
            "INFO:uvicorn.error:Finished server process [1762]\n"
          ]
        }
      ],
      "source": [
        "cc.run_app(app=app)"
      ]
    }
  ],
  "metadata": {
    "accelerator": "GPU",
    "colab": {
      "provenance": []
    },
    "gpuClass": "standard",
    "kernelspec": {
      "display_name": "Python 3.8.15 64-bit ('dev')",
      "language": "python",
      "name": "python3"
    },
    "language_info": {
      "name": "python",
      "version": "3.8.15"
    },
    "vscode": {
      "interpreter": {
        "hash": "329e22198b68d8e60cd009d73b7185815e21aa24b6d9ff67db9978dd5b8ddb29"
      }
    }
  },
  "nbformat": 4,
  "nbformat_minor": 0
}
